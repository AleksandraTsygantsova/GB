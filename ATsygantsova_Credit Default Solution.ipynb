{
 "cells": [
  {
   "cell_type": "markdown",
   "metadata": {},
   "source": [
    "# Credit Default - Курсовой проект"
   ]
  },
  {
   "cell_type": "markdown",
   "metadata": {},
   "source": [
    "Требуется, на основании имеющихся данных о клиентах банка, построить модель, используя обучающий датасет, для прогнозирования невыполнения долговых обязательств по текущему кредиту. Выполнить прогноз для примеров из тестового датасета."
   ]
  },
  {
   "cell_type": "markdown",
   "metadata": {},
   "source": [
    "#### Путь к данным"
   ]
  },
  {
   "cell_type": "code",
   "execution_count": 2,
   "metadata": {},
   "outputs": [],
   "source": [
    "TRAIN_DATASET_PATH = './Desktop/alistale/GB/kaggle/Credit/train.csv'\n",
    "TEST_DATASET_PATH = './Desktop/alistale/GB/kaggle/Credit/test.csv'"
   ]
  },
  {
   "cell_type": "markdown",
   "metadata": {},
   "source": [
    "#### Импорт библиотек"
   ]
  },
  {
   "cell_type": "code",
   "execution_count": 69,
   "metadata": {},
   "outputs": [],
   "source": [
    "import pandas as pd\n",
    "import numpy as np\n",
    "import pickle\n",
    "import random\n",
    "\n",
    "from scipy.stats import shapiro, probplot, mannwhitneyu\n",
    "from sklearn.preprocessing import StandardScaler, MinMaxScaler\n",
    "from sklearn.model_selection import train_test_split, ShuffleSplit, cross_val_score, learning_curve\n",
    "from sklearn.model_selection import KFold, GridSearchCV, RandomizedSearchCV\n",
    "from sklearn.metrics import classification_report, f1_score, precision_score, recall_score\n",
    "from catboost import CatBoostClassifier, CatBoostRegressor, Pool\n",
    "\n",
    "from sklearn.linear_model import LogisticRegression\n",
    "from sklearn.neighbors import KNeighborsClassifier\n",
    "import xgboost as xgb, lightgbm as lgbm, catboost as catb\n",
    "\n",
    "import seaborn as sns\n",
    "from matplotlib import pyplot as plt\n",
    "%matplotlib inline"
   ]
  },
  {
   "cell_type": "markdown",
   "metadata": {},
   "source": [
    "#### Функции"
   ]
  },
  {
   "cell_type": "code",
   "execution_count": 4,
   "metadata": {},
   "outputs": [],
   "source": [
    "# Функция расчета эффективности модели\n",
    "def get_classification_report(y_train_true, y_train_pred, y_test_true, y_test_pred):\n",
    "    print('TRAIN\\n\\n' + classification_report(y_train_true, y_train_pred))\n",
    "    print('TEST\\n\\n' + classification_report(y_test_true, y_test_pred))\n",
    "    print('CONFUSION MATRIX\\n')\n",
    "    print(pd.crosstab(y_test_true, y_test_pred))"
   ]
  },
  {
   "cell_type": "code",
   "execution_count": 5,
   "metadata": {},
   "outputs": [],
   "source": [
    "def show_distplot(feature, data, title, figsize):\n",
    "    \"\"\"Диаграмма распределения признака со средней, медианой и модой\"\"\"\n",
    "    \n",
    "    target_mean = round(data[feature].mean(), 2)\n",
    "    target_median = data[feature].median()\n",
    "    target_mode = data[feature].mode()[0]\n",
    "\n",
    "    plt.figure(figsize = figsize)\n",
    "\n",
    "    sns.distplot(data[feature], bins=70)\n",
    "\n",
    "    plt.axvline(x=[target_mean], label='target_mean', linestyle=':',linewidth=4, color='red')\n",
    "    plt.axvline(x=[target_median], label='target_median', linestyle='--', linewidth=4, color='green')\n",
    "    plt.axvline(x=[target_mode], label='target_mode', linestyle='-.', linewidth=4, color='orange')\n",
    "    plt.title(title)\n",
    "    plt.legend()"
   ]
  },
  {
   "cell_type": "markdown",
   "metadata": {},
   "source": [
    "# Обзор обучающего датасета"
   ]
  },
  {
   "cell_type": "code",
   "execution_count": 6,
   "metadata": {},
   "outputs": [],
   "source": [
    "train_df = pd.read_csv(TRAIN_DATASET_PATH, sep=',')"
   ]
  },
  {
   "cell_type": "code",
   "execution_count": 8,
   "metadata": {},
   "outputs": [
    {
     "data": {
      "text/html": [
       "<div>\n",
       "<style scoped>\n",
       "    .dataframe tbody tr th:only-of-type {\n",
       "        vertical-align: middle;\n",
       "    }\n",
       "\n",
       "    .dataframe tbody tr th {\n",
       "        vertical-align: top;\n",
       "    }\n",
       "\n",
       "    .dataframe thead th {\n",
       "        text-align: right;\n",
       "    }\n",
       "</style>\n",
       "<table border=\"1\" class=\"dataframe\">\n",
       "  <thead>\n",
       "    <tr style=\"text-align: right;\">\n",
       "      <th></th>\n",
       "      <th>Home Ownership</th>\n",
       "      <th>Annual Income</th>\n",
       "      <th>Years in current job</th>\n",
       "      <th>Tax Liens</th>\n",
       "      <th>Number of Open Accounts</th>\n",
       "      <th>Years of Credit History</th>\n",
       "      <th>Maximum Open Credit</th>\n",
       "      <th>Number of Credit Problems</th>\n",
       "      <th>Months since last delinquent</th>\n",
       "      <th>Bankruptcies</th>\n",
       "      <th>Purpose</th>\n",
       "      <th>Term</th>\n",
       "      <th>Current Loan Amount</th>\n",
       "      <th>Current Credit Balance</th>\n",
       "      <th>Monthly Debt</th>\n",
       "      <th>Credit Score</th>\n",
       "      <th>Credit Default</th>\n",
       "    </tr>\n",
       "  </thead>\n",
       "  <tbody>\n",
       "    <tr>\n",
       "      <th>0</th>\n",
       "      <td>Own Home</td>\n",
       "      <td>482087.0</td>\n",
       "      <td>NaN</td>\n",
       "      <td>0.0</td>\n",
       "      <td>11.0</td>\n",
       "      <td>26.3</td>\n",
       "      <td>685960.0</td>\n",
       "      <td>1.0</td>\n",
       "      <td>NaN</td>\n",
       "      <td>1.0</td>\n",
       "      <td>debt consolidation</td>\n",
       "      <td>Short Term</td>\n",
       "      <td>99999999.0</td>\n",
       "      <td>47386.0</td>\n",
       "      <td>7914.0</td>\n",
       "      <td>749.0</td>\n",
       "      <td>0</td>\n",
       "    </tr>\n",
       "    <tr>\n",
       "      <th>1</th>\n",
       "      <td>Own Home</td>\n",
       "      <td>1025487.0</td>\n",
       "      <td>10+ years</td>\n",
       "      <td>0.0</td>\n",
       "      <td>15.0</td>\n",
       "      <td>15.3</td>\n",
       "      <td>1181730.0</td>\n",
       "      <td>0.0</td>\n",
       "      <td>NaN</td>\n",
       "      <td>0.0</td>\n",
       "      <td>debt consolidation</td>\n",
       "      <td>Long Term</td>\n",
       "      <td>264968.0</td>\n",
       "      <td>394972.0</td>\n",
       "      <td>18373.0</td>\n",
       "      <td>737.0</td>\n",
       "      <td>1</td>\n",
       "    </tr>\n",
       "    <tr>\n",
       "      <th>2</th>\n",
       "      <td>Home Mortgage</td>\n",
       "      <td>751412.0</td>\n",
       "      <td>8 years</td>\n",
       "      <td>0.0</td>\n",
       "      <td>11.0</td>\n",
       "      <td>35.0</td>\n",
       "      <td>1182434.0</td>\n",
       "      <td>0.0</td>\n",
       "      <td>NaN</td>\n",
       "      <td>0.0</td>\n",
       "      <td>debt consolidation</td>\n",
       "      <td>Short Term</td>\n",
       "      <td>99999999.0</td>\n",
       "      <td>308389.0</td>\n",
       "      <td>13651.0</td>\n",
       "      <td>742.0</td>\n",
       "      <td>0</td>\n",
       "    </tr>\n",
       "    <tr>\n",
       "      <th>3</th>\n",
       "      <td>Own Home</td>\n",
       "      <td>805068.0</td>\n",
       "      <td>6 years</td>\n",
       "      <td>0.0</td>\n",
       "      <td>8.0</td>\n",
       "      <td>22.5</td>\n",
       "      <td>147400.0</td>\n",
       "      <td>1.0</td>\n",
       "      <td>NaN</td>\n",
       "      <td>1.0</td>\n",
       "      <td>debt consolidation</td>\n",
       "      <td>Short Term</td>\n",
       "      <td>121396.0</td>\n",
       "      <td>95855.0</td>\n",
       "      <td>11338.0</td>\n",
       "      <td>694.0</td>\n",
       "      <td>0</td>\n",
       "    </tr>\n",
       "    <tr>\n",
       "      <th>4</th>\n",
       "      <td>Rent</td>\n",
       "      <td>776264.0</td>\n",
       "      <td>8 years</td>\n",
       "      <td>0.0</td>\n",
       "      <td>13.0</td>\n",
       "      <td>13.6</td>\n",
       "      <td>385836.0</td>\n",
       "      <td>1.0</td>\n",
       "      <td>NaN</td>\n",
       "      <td>0.0</td>\n",
       "      <td>debt consolidation</td>\n",
       "      <td>Short Term</td>\n",
       "      <td>125840.0</td>\n",
       "      <td>93309.0</td>\n",
       "      <td>7180.0</td>\n",
       "      <td>719.0</td>\n",
       "      <td>0</td>\n",
       "    </tr>\n",
       "  </tbody>\n",
       "</table>\n",
       "</div>"
      ],
      "text/plain": [
       "  Home Ownership  Annual Income Years in current job  Tax Liens  \\\n",
       "0       Own Home       482087.0                  NaN        0.0   \n",
       "1       Own Home      1025487.0            10+ years        0.0   \n",
       "2  Home Mortgage       751412.0              8 years        0.0   \n",
       "3       Own Home       805068.0              6 years        0.0   \n",
       "4           Rent       776264.0              8 years        0.0   \n",
       "\n",
       "   Number of Open Accounts  Years of Credit History  Maximum Open Credit  \\\n",
       "0                     11.0                     26.3             685960.0   \n",
       "1                     15.0                     15.3            1181730.0   \n",
       "2                     11.0                     35.0            1182434.0   \n",
       "3                      8.0                     22.5             147400.0   \n",
       "4                     13.0                     13.6             385836.0   \n",
       "\n",
       "   Number of Credit Problems  Months since last delinquent  Bankruptcies  \\\n",
       "0                        1.0                           NaN           1.0   \n",
       "1                        0.0                           NaN           0.0   \n",
       "2                        0.0                           NaN           0.0   \n",
       "3                        1.0                           NaN           1.0   \n",
       "4                        1.0                           NaN           0.0   \n",
       "\n",
       "              Purpose        Term  Current Loan Amount  \\\n",
       "0  debt consolidation  Short Term           99999999.0   \n",
       "1  debt consolidation   Long Term             264968.0   \n",
       "2  debt consolidation  Short Term           99999999.0   \n",
       "3  debt consolidation  Short Term             121396.0   \n",
       "4  debt consolidation  Short Term             125840.0   \n",
       "\n",
       "   Current Credit Balance  Monthly Debt  Credit Score  Credit Default  \n",
       "0                 47386.0        7914.0         749.0               0  \n",
       "1                394972.0       18373.0         737.0               1  \n",
       "2                308389.0       13651.0         742.0               0  \n",
       "3                 95855.0       11338.0         694.0               0  \n",
       "4                 93309.0        7180.0         719.0               0  "
      ]
     },
     "execution_count": 8,
     "metadata": {},
     "output_type": "execute_result"
    }
   ],
   "source": [
    "train_df.head(5)"
   ]
  },
  {
   "cell_type": "markdown",
   "metadata": {},
   "source": [
    "Data fields\n",
    "\n",
    "    Home Ownership - домовладение\n",
    "    Annual Income - годовой доход\n",
    "    Years in current job - количество лет на текущем месте работы\n",
    "    Tax Liens - налоговые обременения\n",
    "    Number of Open Accounts - количество открытых счетов\n",
    "    Years of Credit History - количество лет кредитной истории\n",
    "    Maximum Open Credit - наибольший открытый кредит\n",
    "    Number of Credit Problems - количество проблем с кредитом\n",
    "    Months since last delinquent - количество месяцев с последней просрочки платежа\n",
    "    Bankruptcies - банкротства\n",
    "    Purpose - цель кредита\n",
    "    Term - срок кредита\n",
    "    Current Loan Amount - текущая сумма кредита\n",
    "    Current Credit Balance - текущий кредитный баланс\n",
    "    Monthly Debt - ежемесячный долг\n",
    "    Credit Default - факт невыполнения кредитных обязательств (0 - погашен вовремя, 1 - просрочка)\n"
   ]
  },
  {
   "cell_type": "code",
   "execution_count": 10,
   "metadata": {},
   "outputs": [
    {
     "name": "stdout",
     "output_type": "stream",
     "text": [
      "<class 'pandas.core.frame.DataFrame'>\n",
      "RangeIndex: 7500 entries, 0 to 7499\n",
      "Data columns (total 17 columns):\n",
      " #   Column                        Non-Null Count  Dtype  \n",
      "---  ------                        --------------  -----  \n",
      " 0   Home Ownership                7500 non-null   object \n",
      " 1   Annual Income                 5943 non-null   float64\n",
      " 2   Years in current job          7129 non-null   object \n",
      " 3   Tax Liens                     7500 non-null   float64\n",
      " 4   Number of Open Accounts       7500 non-null   float64\n",
      " 5   Years of Credit History       7500 non-null   float64\n",
      " 6   Maximum Open Credit           7500 non-null   float64\n",
      " 7   Number of Credit Problems     7500 non-null   float64\n",
      " 8   Months since last delinquent  3419 non-null   float64\n",
      " 9   Bankruptcies                  7486 non-null   float64\n",
      " 10  Purpose                       7500 non-null   object \n",
      " 11  Term                          7500 non-null   object \n",
      " 12  Current Loan Amount           7500 non-null   float64\n",
      " 13  Current Credit Balance        7500 non-null   float64\n",
      " 14  Monthly Debt                  7500 non-null   float64\n",
      " 15  Credit Score                  5943 non-null   float64\n",
      " 16  Credit Default                7500 non-null   int64  \n",
      "dtypes: float64(12), int64(1), object(4)\n",
      "memory usage: 996.2+ KB\n"
     ]
    }
   ],
   "source": [
    "train_df.info()"
   ]
  },
  {
   "cell_type": "markdown",
   "metadata": {},
   "source": [
    "Пропуски в признаках:\n",
    "Annual Income, Years in current job, Months since last delinquent, Bankruptcies, Credit Score.\n",
    "\n",
    "Категориальные признаки: \n",
    "Home Ownership, Years in current job, Purpose, Term"
   ]
  },
  {
   "cell_type": "markdown",
   "metadata": {},
   "source": [
    "### Корреляция с базовыми признаками"
   ]
  },
  {
   "cell_type": "markdown",
   "metadata": {},
   "source": [
    "Определим наиболее важные признаки для нашей целевой метки. Этим признакам мы уделим наиболее внимание при препроцессинге."
   ]
  },
  {
   "cell_type": "code",
   "execution_count": 14,
   "metadata": {},
   "outputs": [],
   "source": [
    "TARGET_NAME = 'Credit Default'\n",
    "BASE_FEATURE_NAMES = train_df.columns.drop('Credit Default').tolist()\n",
    "\n",
    "NUM_FEATURE_NAMES = [\n",
    " 'Annual Income',\n",
    " 'Tax Liens',\n",
    " 'Number of Open Accounts',\n",
    " 'Years of Credit History',\n",
    " 'Maximum Open Credit',\n",
    " 'Number of Credit Problems',\n",
    " 'Bankruptcies',\n",
    " 'Current Loan Amount',\n",
    " 'Current Credit Balance',\n",
    " 'Monthly Debt',\n",
    " 'Credit Score']\n",
    "CAT_FEATURE_NAMES = ['Home Ownership', 'Years in current job', 'Purpose', 'Term']"
   ]
  },
  {
   "cell_type": "code",
   "execution_count": 15,
   "metadata": {},
   "outputs": [
    {
     "data": {
      "image/png": "[encoded data removed]",
      "text/plain": [
       "<Figure size 720x576 with 1 Axes>"
      ]
     },
     "metadata": {
      "needs_background": "light"
     },
     "output_type": "display_data"
    }
   ],
   "source": [
    "corr_with_target = train_df[NUM_FEATURE_NAMES + CAT_FEATURE_NAMES + [TARGET_NAME]].corr().iloc[:-1, -1].sort_values(ascending=False)\n",
    "\n",
    "plt.figure(figsize=(10, 8))\n",
    "\n",
    "sns.barplot(x=corr_with_target.values, y=corr_with_target.index)\n",
    "\n",
    "plt.title('Correlation with target variable')\n",
    "plt.show()"
   ]
  },
  {
   "cell_type": "markdown",
   "metadata": {},
   "source": [
    "Наиболее важные признаки: Credit Score, Current Loan Amount, Annual Income, Number of open accounts."
   ]
  },
  {
   "cell_type": "markdown",
   "metadata": {},
   "source": [
    "Рассмотрим распределение целевой переменной"
   ]
  },
  {
   "cell_type": "code",
   "execution_count": 16,
   "metadata": {},
   "outputs": [
    {
     "name": "stderr",
     "output_type": "stream",
     "text": [
      "C:\\Users\\user\\anaconda3\\lib\\site-packages\\seaborn\\_decorators.py:36: FutureWarning: Pass the following variables as keyword args: x, y. From version 0.12, the only valid positional argument will be `data`, and passing other arguments without an explicit keyword will result in an error or misinterpretation.\n",
      "  warnings.warn(\n"
     ]
    },
    {
     "data": {
      "image/png": "[encoded data removed]",
      "text/plain": [
       "<Figure size 1008x432 with 1 Axes>"
      ]
     },
     "metadata": {
      "needs_background": "light"
     },
     "output_type": "display_data"
    }
   ],
   "source": [
    "counts = train_df['Credit Default'].value_counts()\n",
    "    \n",
    "plt.figure(figsize=(14,6))    \n",
    "plt.title('Credit Default')\n",
    "sns.barplot(counts.index, counts.values)\n",
    "    \n",
    "plt.show()"
   ]
  },
  {
   "cell_type": "markdown",
   "metadata": {},
   "source": [
    "Классы в датафрейме не сбалансированы: присутсвует преобладание нулевого класса. Данные необходимо балансировать"
   ]
  },
  {
   "cell_type": "markdown",
   "metadata": {},
   "source": [
    "# Обработка выбросов"
   ]
  },
  {
   "cell_type": "code",
   "execution_count": 18,
   "metadata": {},
   "outputs": [
    {
     "data": {
      "image/png": "[encoded data removed]",
      "text/plain": [
       "<Figure size 1152x1152 with 12 Axes>"
      ]
     },
     "metadata": {
      "needs_background": "light"
     },
     "output_type": "display_data"
    }
   ],
   "source": [
    "df_num_features = train_df[NUM_FEATURE_NAMES]\n",
    "df_num_features.hist(figsize=(16,16), bins=20, grid=False);"
   ]
  },
  {
   "cell_type": "markdown",
   "metadata": {},
   "source": [
    "#### Current Loan Amount"
   ]
  },
  {
   "cell_type": "code",
   "execution_count": 19,
   "metadata": {},
   "outputs": [
    {
     "name": "stderr",
     "output_type": "stream",
     "text": [
      "C:\\Users\\user\\anaconda3\\lib\\site-packages\\seaborn\\distributions.py:2551: FutureWarning: `distplot` is a deprecated function and will be removed in a future version. Please adapt your code to use either `displot` (a figure-level function with similar flexibility) or `histplot` (an axes-level function for histograms).\n",
      "  warnings.warn(msg, FutureWarning)\n"
     ]
    },
    {
     "data": {
      "image/png": "[encoded data removed]",
      "text/plain": [
       "<Figure size 1800x216 with 1 Axes>"
      ]
     },
     "metadata": {
      "needs_background": "light"
     },
     "output_type": "display_data"
    }
   ],
   "source": [
    "show_distplot(feature='Current Loan Amount', data=train_df, title='Distribution of Current Loan Amount', figsize=(25,3))"
   ]
  },
  {
   "cell_type": "markdown",
   "metadata": {},
   "source": [
    "Распределение признака выглядит ненормальным. Значения выше квантиля 0.85 заменим на медиану."
   ]
  },
  {
   "cell_type": "code",
   "execution_count": 20,
   "metadata": {},
   "outputs": [
    {
     "data": {
      "text/plain": [
       "99999999.0    870\n",
       "89298.0         6\n",
       "218064.0        6\n",
       "216106.0        5\n",
       "270226.0        5\n",
       "             ... \n",
       "490006.0        1\n",
       "404756.0        1\n",
       "194414.0        1\n",
       "420376.0        1\n",
       "33792.0         1\n",
       "Name: Current Loan Amount, Length: 5386, dtype: int64"
      ]
     },
     "execution_count": 20,
     "metadata": {},
     "output_type": "execute_result"
    }
   ],
   "source": [
    "train_df['Current Loan Amount'].value_counts()"
   ]
  },
  {
   "cell_type": "code",
   "execution_count": 167,
   "metadata": {},
   "outputs": [
    {
     "data": {
      "text/plain": [
       "741790.5"
      ]
     },
     "execution_count": 167,
     "metadata": {},
     "output_type": "execute_result"
    }
   ],
   "source": [
    "train_df['Current Loan Amount'].quantile(.85)"
   ]
  },
  {
   "cell_type": "markdown",
   "metadata": {},
   "source": [
    "# Обработка пропусков"
   ]
  },
  {
   "cell_type": "code",
   "execution_count": 23,
   "metadata": {},
   "outputs": [
    {
     "data": {
      "text/plain": [
       "Home Ownership                     0\n",
       "Annual Income                   1557\n",
       "Years in current job             371\n",
       "Tax Liens                          0\n",
       "Number of Open Accounts            0\n",
       "Years of Credit History            0\n",
       "Maximum Open Credit                0\n",
       "Number of Credit Problems          0\n",
       "Months since last delinquent    4081\n",
       "Bankruptcies                      14\n",
       "Purpose                            0\n",
       "Term                               0\n",
       "Current Loan Amount                0\n",
       "Current Credit Balance             0\n",
       "Monthly Debt                       0\n",
       "Credit Score                    1557\n",
       "Credit Default                     0\n",
       "Current_Loan_Amount_fill           0\n",
       "dtype: int64"
      ]
     },
     "execution_count": 23,
     "metadata": {},
     "output_type": "execute_result"
    }
   ],
   "source": [
    "train_df.isna().sum()"
   ]
  },
  {
   "cell_type": "code",
   "execution_count": 24,
   "metadata": {},
   "outputs": [],
   "source": [
    "# Уберем из датасета признак Months since last delinquent из-за большого кол-ва пропусков"
   ]
  },
  {
   "cell_type": "code",
   "execution_count": 25,
   "metadata": {},
   "outputs": [],
   "source": [
    "train_df.drop('Months since last delinquent', axis=1, inplace=True)"
   ]
  },
  {
   "cell_type": "code",
   "execution_count": 26,
   "metadata": {},
   "outputs": [],
   "source": [
    "# Заполним пустые значения в признаках Years in current job, Bankruptcies модой этого признака"
   ]
  },
  {
   "cell_type": "code",
   "execution_count": 27,
   "metadata": {},
   "outputs": [],
   "source": [
    "train_df['Years in current job'] = train_df['Years in current job'].fillna('10+ years')"
   ]
  },
  {
   "cell_type": "code",
   "execution_count": 28,
   "metadata": {},
   "outputs": [],
   "source": [
    "train_df['Bankruptcies'] = train_df['Bankruptcies'].fillna(0.0)"
   ]
  },
  {
   "cell_type": "code",
   "execution_count": 29,
   "metadata": {},
   "outputs": [],
   "source": [
    "# Заменим пустые значения в признаках Credit Score, Annual Income медианой данных признаков"
   ]
  },
  {
   "cell_type": "code",
   "execution_count": 30,
   "metadata": {},
   "outputs": [],
   "source": [
    "credit_score_median = train_df['Credit Score'].median()\n",
    "annual_income_median = train_df['Annual Income'].median()"
   ]
  },
  {
   "cell_type": "code",
   "execution_count": 31,
   "metadata": {},
   "outputs": [],
   "source": [
    "train_df['Credit Score'] = train_df['Credit Score'].fillna(credit_score_median)\n",
    "train_df['Annual Income'] = train_df['Annual Income'].fillna(annual_income_median)"
   ]
  },
  {
   "cell_type": "markdown",
   "metadata": {},
   "source": [
    "#### Итоговая функция предобработки данных"
   ]
  },
  {
   "cell_type": "code",
   "execution_count": 169,
   "metadata": {},
   "outputs": [],
   "source": [
    "from sklearn.ensemble import GradientBoostingRegressor\n",
    "from sklearn.metrics import mean_squared_error as mse, r2_score as r2\n",
    "from sklearn.preprocessing import StandardScaler\n",
    "\n",
    "\n",
    "class Data:\n",
    "\n",
    "    def __init__(self):\n",
    "        self.medians = None\n",
    "\n",
    "    \n",
    "    def fit(self, df):\n",
    "        \n",
    "        self.medians = df[['Annual Income', 'Credit Score', 'Current Loan Amount']].median()\n",
    "\n",
    "    \n",
    "    def transform_other_features(self, df):\n",
    "        # преобразуем исходные данные\n",
    "        \n",
    "        df.drop('Months since last delinquent', axis=1, inplace=True)\n",
    "        df['Years in current job'] = df['Years in current job'].fillna('10+ years')\n",
    "        df['Bankruptcies'] = df['Bankruptcies'].fillna(0.0)\n",
    "        df.drop('Tax Liens', axis=1, inplace=True)\n",
    "        df.drop('Number of Credit Problems', axis=1, inplace=True)\n",
    "        df.drop('Bankruptcies', axis=1, inplace=True)\n",
    "        \n",
    "     \n",
    "        df['Credit_Score_fill'] = 0\n",
    "        df.loc[df['Credit Score'].isna(), 'Credit_Score_fill'] = 1\n",
    "        df['Credit Score'] = df['Credit Score'].fillna(self.medians['Credit Score'])\n",
    "        df.drop('Credit_Score_fill', axis=1, inplace=True)\n",
    "        \n",
    "        df['Annual_Income_fill'] = 0\n",
    "        df.loc[df['Annual Income'].isna(), 'Annual_Income_fill'] = 1\n",
    "        df['Annual Income'] = df['Annual Income'].fillna(self.medians['Annual Income'])\n",
    "        df.drop('Annual_Income_fill', axis=1, inplace=True)\n",
    "           \n",
    "        \n",
    "        df['Current_Loan_Amount_fill'] = 0\n",
    "        df.loc[df['Current Loan Amount'] > 714790, 'Current_Loan_Amount_fill'] = 1\n",
    "        df['Current Loan Amount'] = df['Current Loan Amount'].fillna(self.medians['Current Loan Amount'])\n",
    "        df.drop('Current_Loan_Amount_fill', axis=1, inplace=True)\n",
    "        \n",
    "        return df\n",
    "    "
   ]
  },
  {
   "cell_type": "markdown",
   "metadata": {},
   "source": [
    "#### Инициализация класса"
   ]
  },
  {
   "cell_type": "code",
   "execution_count": 280,
   "metadata": {},
   "outputs": [],
   "source": [
    "train_df = pd.read_csv(TRAIN_DATASET_PATH)\n",
    "data_inst = Data()\n",
    "\n",
    "data_inst.fit(train_df)\n",
    "\n",
    "train_df = data_inst.transform_other_features(train_df)"
   ]
  },
  {
   "cell_type": "markdown",
   "metadata": {},
   "source": [
    "# Анализ предобработанных данных"
   ]
  },
  {
   "cell_type": "markdown",
   "metadata": {},
   "source": [
    "### Корреляция предобработанных данных с целевой переменной"
   ]
  },
  {
   "cell_type": "code",
   "execution_count": 281,
   "metadata": {},
   "outputs": [],
   "source": [
    "NUM_FEATURE_NAMES = ['Annual Income',\n",
    " 'Number of Open Accounts',\n",
    " 'Years of Credit History',\n",
    " 'Maximum Open Credit',\n",
    " 'Current Loan Amount',\n",
    " 'Current Credit Balance',\n",
    " 'Monthly Debt',\n",
    " 'Credit Score']\n",
    "CAT_FEATURE_NAMES = ['Home Ownership', 'Years in current job', 'Purpose', 'Term']"
   ]
  },
  {
   "cell_type": "code",
   "execution_count": 282,
   "metadata": {},
   "outputs": [
    {
     "data": {
      "text/plain": [
       "Text(0.5, 1.0, 'Correlation with target variable')"
      ]
     },
     "execution_count": 282,
     "metadata": {},
     "output_type": "execute_result"
    },
    {
     "data": {
      "image/png": "[encoded data removed]",
      "text/plain": [
       "<Figure size 720x576 with 1 Axes>"
      ]
     },
     "metadata": {
      "needs_background": "light"
     },
     "output_type": "display_data"
    }
   ],
   "source": [
    "corr_with_target = train_df[NUM_FEATURE_NAMES + CAT_FEATURE_NAMES + [TARGET_NAME]].corr().iloc[:-1, -1].sort_values(ascending=False)\n",
    "\n",
    "plt.figure(figsize=(10, 8))\n",
    "\n",
    "sns.barplot(x=corr_with_target.values, y=corr_with_target.index)\n",
    "\n",
    "plt.title('Correlation with target variable')"
   ]
  },
  {
   "cell_type": "markdown",
   "metadata": {},
   "source": [
    "### Корреляция признака Credit Score с целевой переменной в разрезе классов"
   ]
  },
  {
   "cell_type": "code",
   "execution_count": 176,
   "metadata": {},
   "outputs": [
    {
     "data": {
      "text/plain": [
       "Text(0.5, 1.0, 'Credit Score grouped by target variable')"
      ]
     },
     "execution_count": 176,
     "metadata": {},
     "output_type": "execute_result"
    },
    {
     "data": {
      "image/png": "[encoded data removed]",
      "text/plain": [
       "<Figure size 1800x216 with 1 Axes>"
      ]
     },
     "metadata": {
      "needs_background": "light"
     },
     "output_type": "display_data"
    }
   ],
   "source": [
    "credit_score_with_target = train_df[train_df['Credit Score'] < 1000][['Credit Score', TARGET_NAME]]\n",
    "credit_score = credit_score_with_target['Credit Score']\n",
    "credit_score_target_0 = credit_score[credit_score_with_target[TARGET_NAME] == 0]\n",
    "credit_score_target_1 = credit_score[credit_score_with_target[TARGET_NAME] == 1]\n",
    "\n",
    "plt.figure(figsize=(25, 3))\n",
    "\n",
    "sns.kdeplot(credit_score_target_0, shade=True, label='class 0', color='g')\n",
    "sns.kdeplot(credit_score_target_1, shade=True, label='class 1', color='r')\n",
    "\n",
    "plt.xlabel('Credit Score')\n",
    "plt.title('Credit Score grouped by target variable')"
   ]
  },
  {
   "cell_type": "code",
   "execution_count": 177,
   "metadata": {},
   "outputs": [
    {
     "name": "stderr",
     "output_type": "stream",
     "text": [
      "C:\\Users\\user\\anaconda3\\lib\\site-packages\\scipy\\stats\\morestats.py:1681: UserWarning: p-value may not be accurate for N > 5000.\n",
      "  warnings.warn(\"p-value may not be accurate for N > 5000.\")\n"
     ]
    },
    {
     "data": {
      "text/plain": [
       "ShapiroResult(statistic=0.7988221645355225, pvalue=0.0)"
      ]
     },
     "execution_count": 177,
     "metadata": {},
     "output_type": "execute_result"
    }
   ],
   "source": [
    "shapiro(credit_score)"
   ]
  },
  {
   "cell_type": "markdown",
   "metadata": {},
   "source": [
    "Значение p-value меньше 0.05, следовательно распределение отлично от \"нормального\""
   ]
  },
  {
   "cell_type": "code",
   "execution_count": 178,
   "metadata": {},
   "outputs": [
    {
     "data": {
      "text/plain": [
       "Text(0.5, 1.0, 'Confidence intervals (95 %) for Credit Score')"
      ]
     },
     "execution_count": 178,
     "metadata": {},
     "output_type": "execute_result"
    },
    {
     "data": {
      "image/png": "[encoded data removed]",
      "text/plain": [
       "<Figure size 1800x360 with 1 Axes>"
      ]
     },
     "metadata": {
      "needs_background": "light"
     },
     "output_type": "display_data"
    }
   ],
   "source": [
    "plt.figure(figsize=(25, 5))\n",
    "\n",
    "sns.pointplot(x=TARGET_NAME, y='Credit Score', data=credit_score_with_target, capsize=.1)\n",
    "\n",
    "plt.title('Confidence intervals (95 %) for Credit Score')"
   ]
  },
  {
   "cell_type": "markdown",
   "metadata": {},
   "source": [
    "Математические ожидания не пересекаются. Признак будет полезен."
   ]
  },
  {
   "cell_type": "markdown",
   "metadata": {},
   "source": [
    "### Корреляция признака Annual Income с целевой переменной в разрезе классов"
   ]
  },
  {
   "cell_type": "code",
   "execution_count": 179,
   "metadata": {},
   "outputs": [
    {
     "data": {
      "text/plain": [
       "Text(0.5, 1.0, 'Annual Income grouped by target variable')"
      ]
     },
     "execution_count": 179,
     "metadata": {},
     "output_type": "execute_result"
    },
    {
     "data": {
      "image/png": "[encoded data removed]",
      "text/plain": [
       "<Figure size 1800x216 with 1 Axes>"
      ]
     },
     "metadata": {
      "needs_background": "light"
     },
     "output_type": "display_data"
    }
   ],
   "source": [
    "annual_income_with_target = train_df[train_df['Annual Income'] < 1000000][['Annual Income', TARGET_NAME]]\n",
    "annual_income = annual_income_with_target['Annual Income']\n",
    "annual_income_target_0 = annual_income[annual_income_with_target[TARGET_NAME] == 0]\n",
    "annual_income_target_1 = annual_income[annual_income_with_target[TARGET_NAME] == 1]\n",
    "\n",
    "plt.figure(figsize=(25, 3))\n",
    "\n",
    "sns.kdeplot(annual_income_target_0, shade=True, label='class 0', color='g')\n",
    "sns.kdeplot(annual_income_target_1, shade=True, label='class 1', color='r')\n",
    "\n",
    "plt.xlabel('Annual Income')\n",
    "plt.title('Annual Income grouped by target variable')"
   ]
  },
  {
   "cell_type": "code",
   "execution_count": 180,
   "metadata": {},
   "outputs": [
    {
     "data": {
      "text/plain": [
       "ShapiroResult(statistic=0.9539735913276672, pvalue=5.937933527302231e-26)"
      ]
     },
     "execution_count": 180,
     "metadata": {},
     "output_type": "execute_result"
    }
   ],
   "source": [
    "shapiro(annual_income)"
   ]
  },
  {
   "cell_type": "markdown",
   "metadata": {},
   "source": [
    "Значение p-value , больше 0.05, следовательно распределение нормальное"
   ]
  },
  {
   "cell_type": "code",
   "execution_count": 181,
   "metadata": {},
   "outputs": [
    {
     "data": {
      "text/plain": [
       "Text(0.5, 1.0, 'Confidence intervals (95 %) for Annual Income')"
      ]
     },
     "execution_count": 181,
     "metadata": {},
     "output_type": "execute_result"
    },
    {
     "data": {
      "image/png": "[encoded data removed]",
      "text/plain": [
       "<Figure size 1800x360 with 1 Axes>"
      ]
     },
     "metadata": {
      "needs_background": "light"
     },
     "output_type": "display_data"
    }
   ],
   "source": [
    "plt.figure(figsize=(25, 5))\n",
    "\n",
    "sns.pointplot(x=TARGET_NAME, y='Annual Income', data=annual_income_with_target, capsize=.1)\n",
    "\n",
    "plt.title('Confidence intervals (95 %) for Annual Income')"
   ]
  },
  {
   "cell_type": "markdown",
   "metadata": {},
   "source": [
    "Математические ожидания пересекаются. Признак будет не самым полезным."
   ]
  },
  {
   "cell_type": "markdown",
   "metadata": {},
   "source": [
    "### Корреляция признака Current Loan Amount с целевой переменной в разрезе классов"
   ]
  },
  {
   "cell_type": "code",
   "execution_count": 182,
   "metadata": {},
   "outputs": [
    {
     "data": {
      "text/plain": [
       "Text(0.5, 1.0, 'Current Loan Amount grouped by target variable')"
      ]
     },
     "execution_count": 182,
     "metadata": {},
     "output_type": "execute_result"
    },
    {
     "data": {
      "image/png": "[encoded data removed]",
      "text/plain": [
       "<Figure size 1800x216 with 1 Axes>"
      ]
     },
     "metadata": {
      "needs_background": "light"
     },
     "output_type": "display_data"
    }
   ],
   "source": [
    "culoam_with_target = train_df[train_df['Current Loan Amount'] < 1000000][['Current Loan Amount', TARGET_NAME]]\n",
    "culoam = culoam_with_target['Current Loan Amount']\n",
    "culoam_target_0 = culoam[culoam_with_target[TARGET_NAME] == 0]\n",
    "culoam_target_1 = culoam[culoam_with_target[TARGET_NAME] == 1]\n",
    "\n",
    "plt.figure(figsize=(25, 3))\n",
    "\n",
    "sns.kdeplot(culoam_target_0, shade=True, label='class 0', color='g')\n",
    "sns.kdeplot(culoam_target_1, shade=True, label='class 1', color='r')\n",
    "\n",
    "plt.xlabel('Current Loan Amount')\n",
    "plt.title('Current Loan Amount grouped by target variable')"
   ]
  },
  {
   "cell_type": "code",
   "execution_count": 183,
   "metadata": {},
   "outputs": [
    {
     "name": "stderr",
     "output_type": "stream",
     "text": [
      "C:\\Users\\user\\anaconda3\\lib\\site-packages\\scipy\\stats\\morestats.py:1681: UserWarning: p-value may not be accurate for N > 5000.\n",
      "  warnings.warn(\"p-value may not be accurate for N > 5000.\")\n"
     ]
    },
    {
     "data": {
      "text/plain": [
       "ShapiroResult(statistic=0.9398760199546814, pvalue=1.401298464324817e-45)"
      ]
     },
     "execution_count": 183,
     "metadata": {},
     "output_type": "execute_result"
    }
   ],
   "source": [
    "shapiro(culoam)"
   ]
  },
  {
   "cell_type": "markdown",
   "metadata": {},
   "source": [
    "Значение p-value , больше 0.05, следовательно распределение нормальное"
   ]
  },
  {
   "cell_type": "code",
   "execution_count": 184,
   "metadata": {},
   "outputs": [
    {
     "data": {
      "text/plain": [
       "Text(0.5, 1.0, 'Confidence intervals (95 %) for Current Loan Amount')"
      ]
     },
     "execution_count": 184,
     "metadata": {},
     "output_type": "execute_result"
    },
    {
     "data": {
      "image/png": "[encoded data removed]",
      "text/plain": [
       "<Figure size 1800x360 with 1 Axes>"
      ]
     },
     "metadata": {
      "needs_background": "light"
     },
     "output_type": "display_data"
    }
   ],
   "source": [
    "plt.figure(figsize=(25, 5))\n",
    "\n",
    "sns.pointplot(x=TARGET_NAME, y='Current Loan Amount', data=culoam_with_target, capsize=.1)\n",
    "\n",
    "plt.title('Confidence intervals (95 %) for Current Loan Amount')"
   ]
  },
  {
   "cell_type": "markdown",
   "metadata": {},
   "source": [
    "Математические ожидания не пересекаются. Признак будет полезен."
   ]
  },
  {
   "cell_type": "markdown",
   "metadata": {},
   "source": [
    "### Корреляция признака Number of open Accounts с целевой переменной в разрезе классов"
   ]
  },
  {
   "cell_type": "code",
   "execution_count": 186,
   "metadata": {},
   "outputs": [
    {
     "data": {
      "text/plain": [
       "Text(0.5, 1.0, 'Number of Open Accounts grouped by target variable')"
      ]
     },
     "execution_count": 186,
     "metadata": {},
     "output_type": "execute_result"
    },
    {
     "data": {
      "image/png": "[encoded data removed]",
      "text/plain": [
       "<Figure size 1800x216 with 1 Axes>"
      ]
     },
     "metadata": {
      "needs_background": "light"
     },
     "output_type": "display_data"
    }
   ],
   "source": [
    "num_of_acc_with_target = train_df[train_df['Number of Open Accounts'] < 1000000][['Number of Open Accounts', TARGET_NAME]]\n",
    "num_of_acc = num_of_acc_with_target['Number of Open Accounts']\n",
    "num_of_acc_target_0 = num_of_acc[num_of_acc_with_target[TARGET_NAME] == 0]\n",
    "num_of_acc_target_1 = num_of_acc[num_of_acc_with_target[TARGET_NAME] == 1]\n",
    "\n",
    "plt.figure(figsize=(25, 3))\n",
    "\n",
    "sns.kdeplot(num_of_acc_target_0, shade=True, label='class 0', color='g')\n",
    "sns.kdeplot(num_of_acc_target_1, shade=True, label='class 1', color='r')\n",
    "\n",
    "plt.xlabel('Number of Open Accounts')\n",
    "plt.title('Number of Open Accounts grouped by target variable')"
   ]
  },
  {
   "cell_type": "code",
   "execution_count": 187,
   "metadata": {},
   "outputs": [
    {
     "name": "stderr",
     "output_type": "stream",
     "text": [
      "C:\\Users\\user\\anaconda3\\lib\\site-packages\\scipy\\stats\\morestats.py:1681: UserWarning: p-value may not be accurate for N > 5000.\n",
      "  warnings.warn(\"p-value may not be accurate for N > 5000.\")\n"
     ]
    },
    {
     "data": {
      "text/plain": [
       "ShapiroResult(statistic=0.9372566342353821, pvalue=0.0)"
      ]
     },
     "execution_count": 187,
     "metadata": {},
     "output_type": "execute_result"
    }
   ],
   "source": [
    "shapiro(num_of_acc)"
   ]
  },
  {
   "cell_type": "markdown",
   "metadata": {},
   "source": [
    "Значение p-value меньше 0.05, следовательно распределение отлично от \"нормального\""
   ]
  },
  {
   "cell_type": "code",
   "execution_count": 188,
   "metadata": {},
   "outputs": [
    {
     "data": {
      "text/plain": [
       "Text(0.5, 1.0, 'Confidence intervals (95 %) for Number of Open Accounts')"
      ]
     },
     "execution_count": 188,
     "metadata": {},
     "output_type": "execute_result"
    },
    {
     "data": {
      "image/png": "[encoded data removed]",
      "text/plain": [
       "<Figure size 1800x360 with 1 Axes>"
      ]
     },
     "metadata": {
      "needs_background": "light"
     },
     "output_type": "display_data"
    }
   ],
   "source": [
    "plt.figure(figsize=(25, 5))\n",
    "\n",
    "sns.pointplot(x=TARGET_NAME, y='Number of Open Accounts', data=num_of_acc_with_target, capsize=.1)\n",
    "\n",
    "plt.title('Confidence intervals (95 %) for Number of Open Accounts')"
   ]
  },
  {
   "cell_type": "markdown",
   "metadata": {},
   "source": [
    "Математические ожидания пересекаются. Признак будет не самым полезным."
   ]
  },
  {
   "cell_type": "markdown",
   "metadata": {},
   "source": [
    "# Отбор признаков"
   ]
  },
  {
   "cell_type": "code",
   "execution_count": 283,
   "metadata": {},
   "outputs": [
    {
     "data": {
      "text/plain": [
       "['Home Ownership',\n",
       " 'Annual Income',\n",
       " 'Years in current job',\n",
       " 'Number of Open Accounts',\n",
       " 'Years of Credit History',\n",
       " 'Maximum Open Credit',\n",
       " 'Purpose',\n",
       " 'Term',\n",
       " 'Current Loan Amount',\n",
       " 'Current Credit Balance',\n",
       " 'Monthly Debt',\n",
       " 'Credit Score',\n",
       " 'Credit Default']"
      ]
     },
     "execution_count": 283,
     "metadata": {},
     "output_type": "execute_result"
    }
   ],
   "source": [
    "train_df.columns.tolist()"
   ]
  },
  {
   "cell_type": "code",
   "execution_count": 284,
   "metadata": {},
   "outputs": [],
   "source": [
    "TARGET_NAME = 'Credit Default'\n",
    "BASE_FEATURE_NAMES = train_df.columns.drop('Credit Default').tolist()"
   ]
  },
  {
   "cell_type": "code",
   "execution_count": 285,
   "metadata": {},
   "outputs": [],
   "source": [
    "NUM_FEATURE_NAMES = [\n",
    " 'Annual Income',\n",
    " 'Number of Open Accounts',\n",
    " 'Years of Credit History',\n",
    " 'Maximum Open Credit',\n",
    " 'Current Loan Amount',\n",
    " 'Current Credit Balance',\n",
    " 'Monthly Debt',\n",
    " 'Credit Score']\n",
    "CAT_FEATURE_NAMES = ['Home Ownership', 'Years in current job', 'Purpose', 'Term']"
   ]
  },
  {
   "cell_type": "markdown",
   "metadata": {},
   "source": [
    "## Разбиение на train и test"
   ]
  },
  {
   "cell_type": "code",
   "execution_count": 286,
   "metadata": {},
   "outputs": [],
   "source": [
    "X = train_df[NUM_FEATURE_NAMES]\n",
    "y = train_df[TARGET_NAME]\n",
    "\n",
    "X_train, X_test, y_train, y_test = train_test_split(X, y, shuffle=True, test_size=0.30, random_state=21)"
   ]
  },
  {
   "cell_type": "code",
   "execution_count": 287,
   "metadata": {},
   "outputs": [
    {
     "data": {
      "text/plain": [
       "0    5387\n",
       "1    2113\n",
       "Name: Credit Default, dtype: int64"
      ]
     },
     "execution_count": 287,
     "metadata": {},
     "output_type": "execute_result"
    }
   ],
   "source": [
    "df[TARGET_NAME].value_counts()"
   ]
  },
  {
   "cell_type": "markdown",
   "metadata": {},
   "source": [
    "## Балансировка классов"
   ]
  },
  {
   "cell_type": "code",
   "execution_count": 288,
   "metadata": {},
   "outputs": [],
   "source": [
    "def balance_df_by_target(df, target_name):\n",
    "\n",
    "    target_counts = df[target_name].value_counts()\n",
    "\n",
    "    major_class_name = target_counts.argmax()\n",
    "    minor_class_name = target_counts.argmin()\n",
    "\n",
    "    disbalance_coeff = int(target_counts[major_class_name] / target_counts[minor_class_name]) - 1\n",
    "\n",
    "    for i in range(disbalance_coeff):\n",
    "        sample = df[df[target_name] == minor_class_name].sample(target_counts[minor_class_name])\n",
    "        df = df.append(sample, ignore_index=True)\n",
    "\n",
    "    return df.sample(frac=1) "
   ]
  },
  {
   "cell_type": "code",
   "execution_count": 289,
   "metadata": {},
   "outputs": [
    {
     "data": {
      "text/plain": [
       "0    3771\n",
       "1    2958\n",
       "Name: Credit Default, dtype: int64"
      ]
     },
     "execution_count": 289,
     "metadata": {},
     "output_type": "execute_result"
    }
   ],
   "source": [
    "df_for_balancing = pd.concat([X_train, y_train], axis=1)\n",
    "df_balanced = balance_df_by_target(df_for_balancing, TARGET_NAME)\n",
    "    \n",
    "df_balanced[TARGET_NAME].value_counts()"
   ]
  },
  {
   "cell_type": "code",
   "execution_count": 290,
   "metadata": {},
   "outputs": [],
   "source": [
    "X_train = df_balanced.drop(columns=TARGET_NAME)\n",
    "y_train = df_balanced[TARGET_NAME]"
   ]
  },
  {
   "cell_type": "markdown",
   "metadata": {},
   "source": [
    "# Подбор моделей"
   ]
  },
  {
   "cell_type": "markdown",
   "metadata": {},
   "source": [
    "#### Логистическая регрессия"
   ]
  },
  {
   "cell_type": "code",
   "execution_count": 291,
   "metadata": {},
   "outputs": [
    {
     "name": "stdout",
     "output_type": "stream",
     "text": [
      "TRAIN\n",
      "\n",
      "              precision    recall  f1-score   support\n",
      "\n",
      "           0       0.67      0.77      0.71      3771\n",
      "           1       0.63      0.51      0.57      2958\n",
      "\n",
      "    accuracy                           0.66      6729\n",
      "   macro avg       0.65      0.64      0.64      6729\n",
      "weighted avg       0.65      0.66      0.65      6729\n",
      "\n",
      "TEST\n",
      "\n",
      "              precision    recall  f1-score   support\n",
      "\n",
      "           0       0.79      0.77      0.78      1616\n",
      "           1       0.45      0.49      0.47       634\n",
      "\n",
      "    accuracy                           0.69      2250\n",
      "   macro avg       0.62      0.63      0.63      2250\n",
      "weighted avg       0.70      0.69      0.69      2250\n",
      "\n",
      "CONFUSION MATRIX\n",
      "\n",
      "col_0              0    1\n",
      "Credit Default           \n",
      "0               1237  379\n",
      "1                321  313\n"
     ]
    }
   ],
   "source": [
    "model_lr = LogisticRegression()\n",
    "model_lr.fit(X_train, y_train)\n",
    "\n",
    "y_train_pred = model_lr.predict(X_train)\n",
    "y_test_pred = model_lr.predict(X_test)\n",
    "\n",
    "get_classification_report(y_train, y_train_pred, y_test, y_test_pred)"
   ]
  },
  {
   "cell_type": "markdown",
   "metadata": {},
   "source": [
    "#### K-ближайших соседей"
   ]
  },
  {
   "cell_type": "code",
   "execution_count": 292,
   "metadata": {},
   "outputs": [
    {
     "name": "stdout",
     "output_type": "stream",
     "text": [
      "TRAIN\n",
      "\n",
      "              precision    recall  f1-score   support\n",
      "\n",
      "           0       0.78      0.80      0.79      3771\n",
      "           1       0.74      0.71      0.72      2958\n",
      "\n",
      "    accuracy                           0.76      6729\n",
      "   macro avg       0.76      0.76      0.76      6729\n",
      "weighted avg       0.76      0.76      0.76      6729\n",
      "\n",
      "TEST\n",
      "\n",
      "              precision    recall  f1-score   support\n",
      "\n",
      "           0       0.76      0.68      0.72      1616\n",
      "           1       0.36      0.45      0.40       634\n",
      "\n",
      "    accuracy                           0.62      2250\n",
      "   macro avg       0.56      0.57      0.56      2250\n",
      "weighted avg       0.65      0.62      0.63      2250\n",
      "\n",
      "CONFUSION MATRIX\n",
      "\n",
      "col_0              0    1\n",
      "Credit Default           \n",
      "0               1098  518\n",
      "1                348  286\n"
     ]
    }
   ],
   "source": [
    "model_knn = KNeighborsClassifier()\n",
    "model_knn.fit(X_train, y_train)\n",
    "\n",
    "y_train_pred = model_knn.predict(X_train)\n",
    "y_test_pred = model_knn.predict(X_test)\n",
    "\n",
    "get_classification_report(y_train, y_train_pred, y_test, y_test_pred)"
   ]
  },
  {
   "cell_type": "markdown",
   "metadata": {},
   "source": [
    "#### XGBoost"
   ]
  },
  {
   "cell_type": "code",
   "execution_count": 293,
   "metadata": {},
   "outputs": [
    {
     "name": "stdout",
     "output_type": "stream",
     "text": [
      "TRAIN\n",
      "\n",
      "              precision    recall  f1-score   support\n",
      "\n",
      "           0       0.96      0.98      0.97      3771\n",
      "           1       0.97      0.95      0.96      2958\n",
      "\n",
      "    accuracy                           0.97      6729\n",
      "   macro avg       0.97      0.97      0.97      6729\n",
      "weighted avg       0.97      0.97      0.97      6729\n",
      "\n",
      "TEST\n",
      "\n",
      "              precision    recall  f1-score   support\n",
      "\n",
      "           0       0.79      0.83      0.81      1616\n",
      "           1       0.50      0.43      0.46       634\n",
      "\n",
      "    accuracy                           0.72      2250\n",
      "   macro avg       0.64      0.63      0.64      2250\n",
      "weighted avg       0.71      0.72      0.71      2250\n",
      "\n",
      "CONFUSION MATRIX\n",
      "\n",
      "col_0              0    1\n",
      "Credit Default           \n",
      "0               1345  271\n",
      "1                363  271\n"
     ]
    }
   ],
   "source": [
    "model_xgb = xgb.XGBClassifier(random_state=21)\n",
    "model_xgb.fit(X_train, y_train)\n",
    "\n",
    "y_train_pred = model_xgb.predict(X_train)\n",
    "y_test_pred = model_xgb.predict(X_test)\n",
    "\n",
    "get_classification_report(y_train, y_train_pred, y_test, y_test_pred)"
   ]
  },
  {
   "cell_type": "markdown",
   "metadata": {},
   "source": [
    "#### LightGBM"
   ]
  },
  {
   "cell_type": "code",
   "execution_count": 294,
   "metadata": {},
   "outputs": [
    {
     "name": "stdout",
     "output_type": "stream",
     "text": [
      "TRAIN\n",
      "\n",
      "              precision    recall  f1-score   support\n",
      "\n",
      "           0       0.91      0.95      0.93      3771\n",
      "           1       0.93      0.88      0.90      2958\n",
      "\n",
      "    accuracy                           0.92      6729\n",
      "   macro avg       0.92      0.91      0.92      6729\n",
      "weighted avg       0.92      0.92      0.92      6729\n",
      "\n",
      "TEST\n",
      "\n",
      "              precision    recall  f1-score   support\n",
      "\n",
      "           0       0.79      0.83      0.81      1616\n",
      "           1       0.51      0.44      0.47       634\n",
      "\n",
      "    accuracy                           0.72      2250\n",
      "   macro avg       0.65      0.64      0.64      2250\n",
      "weighted avg       0.71      0.72      0.72      2250\n",
      "\n",
      "CONFUSION MATRIX\n",
      "\n",
      "col_0              0    1\n",
      "Credit Default           \n",
      "0               1349  267\n",
      "1                358  276\n"
     ]
    }
   ],
   "source": [
    "model_lgbm = lgbm.LGBMClassifier(random_state=21)\n",
    "model_lgbm.fit(X_train, y_train)\n",
    "\n",
    "y_train_pred = model_lgbm.predict(X_train)\n",
    "y_test_pred = model_lgbm.predict(X_test)\n",
    "\n",
    "get_classification_report(y_train, y_train_pred, y_test, y_test_pred)"
   ]
  },
  {
   "cell_type": "markdown",
   "metadata": {},
   "source": [
    "#### CatBoost"
   ]
  },
  {
   "cell_type": "markdown",
   "metadata": {},
   "source": [
    "##### Приведение типов для модели CatBoost"
   ]
  },
  {
   "cell_type": "code",
   "execution_count": 295,
   "metadata": {},
   "outputs": [
    {
     "data": {
      "text/plain": [
       "Home Ownership          category\n",
       "Years in current job    category\n",
       "Purpose                 category\n",
       "Term                    category\n",
       "dtype: object"
      ]
     },
     "execution_count": 295,
     "metadata": {},
     "output_type": "execute_result"
    }
   ],
   "source": [
    "for colname in CAT_FEATURE_NAMES:\n",
    "    train_df[colname] = pd.Categorical(train_df[colname])\n",
    "    \n",
    "train_df[CAT_FEATURE_NAMES].dtypes"
   ]
  },
  {
   "cell_type": "code",
   "execution_count": 296,
   "metadata": {},
   "outputs": [],
   "source": [
    "X_for_catb = train_df[NUM_FEATURE_NAMES + CAT_FEATURE_NAMES]\n",
    "y_for_catb = train_df[TARGET_NAME]\n",
    "\n",
    "X_train, X_test, y_train, y_test = train_test_split(X_for_catb, y_for_catb, shuffle=True, test_size=0.30, random_state=21)"
   ]
  },
  {
   "cell_type": "code",
   "execution_count": 297,
   "metadata": {},
   "outputs": [
    {
     "data": {
      "text/plain": [
       "0    3771\n",
       "1    2958\n",
       "Name: Credit Default, dtype: int64"
      ]
     },
     "execution_count": 297,
     "metadata": {},
     "output_type": "execute_result"
    }
   ],
   "source": [
    "df_for_balancing = pd.concat([X_train, y_train], axis=1)\n",
    "df_balanced = balance_df_by_target(df_for_balancing, TARGET_NAME)\n",
    "    \n",
    "df_balanced[TARGET_NAME].value_counts()"
   ]
  },
  {
   "cell_type": "code",
   "execution_count": 298,
   "metadata": {},
   "outputs": [],
   "source": [
    "X_train = df_balanced.drop(columns=TARGET_NAME)\n",
    "y_train = df_balanced[TARGET_NAME]"
   ]
  },
  {
   "cell_type": "code",
   "execution_count": 299,
   "metadata": {},
   "outputs": [],
   "source": [
    "params = {\n",
    "    'eval_metric': 'F1',\n",
    "    'silent': True,\n",
    "    'cat_features': CAT_FEATURE_NAMES,\n",
    "}"
   ]
  },
  {
   "cell_type": "code",
   "execution_count": 300,
   "metadata": {},
   "outputs": [
    {
     "name": "stdout",
     "output_type": "stream",
     "text": [
      "TRAIN\n",
      "\n",
      "              precision    recall  f1-score   support\n",
      "\n",
      "           0       0.86      0.92      0.89      3771\n",
      "           1       0.89      0.81      0.85      2958\n",
      "\n",
      "    accuracy                           0.88      6729\n",
      "   macro avg       0.88      0.87      0.87      6729\n",
      "weighted avg       0.88      0.88      0.88      6729\n",
      "\n",
      "TEST\n",
      "\n",
      "              precision    recall  f1-score   support\n",
      "\n",
      "           0       0.81      0.84      0.82      1616\n",
      "           1       0.55      0.51      0.53       634\n",
      "\n",
      "    accuracy                           0.74      2250\n",
      "   macro avg       0.68      0.67      0.68      2250\n",
      "weighted avg       0.74      0.74      0.74      2250\n",
      "\n",
      "CONFUSION MATRIX\n",
      "\n",
      "col_0              0    1\n",
      "Credit Default           \n",
      "0               1353  263\n",
      "1                311  323\n"
     ]
    }
   ],
   "source": [
    "model_catb = catb.CatBoostClassifier(**params, random_state=21)\n",
    "model_catb.fit(X_train, y_train)\n",
    "\n",
    "y_train_pred = model_catb.predict(X_train)\n",
    "y_test_pred = model_catb.predict(X_test)\n",
    "\n",
    "get_classification_report(y_train, y_train_pred, y_test, y_test_pred)"
   ]
  },
  {
   "cell_type": "markdown",
   "metadata": {},
   "source": [
    "CatBoost показал наилучшие результаты. Ее выбираем в качестве финальной модели."
   ]
  },
  {
   "cell_type": "markdown",
   "metadata": {},
   "source": [
    "# Настройка гиперпараметров"
   ]
  },
  {
   "cell_type": "code",
   "execution_count": 316,
   "metadata": {},
   "outputs": [],
   "source": [
    "train_pool = Pool(\n",
    "    X_train,\n",
    "    y_train,\n",
    "    cat_features=CAT_FEATURE_NAMES\n",
    ")\n",
    "\n",
    "params = {\n",
    "    'eval_metric': 'F1',\n",
    "    'silent': True,\n",
    "    'cat_features': CAT_FEATURE_NAMES,\n",
    "    'auto_class_weights': 'Balanced',\n",
    "    'one_hot_max_size': 20,\n",
    "    'early_stopping_rounds': 50,\n",
    "    'boosting_type': 'Ordered',\n",
    "    'allow_writing_files': False\n",
    "}"
   ]
  },
  {
   "cell_type": "code",
   "execution_count": 322,
   "metadata": {},
   "outputs": [
    {
     "name": "stdout",
     "output_type": "stream",
     "text": [
      "\n",
      "bestTest = 0.6445346622\n",
      "bestIteration = 49\n",
      "\n",
      "0:\tloss: 0.6445347\tbest: 0.6445347 (0)\ttotal: 1.29s\tremaining: 24.4s\n",
      "\n",
      "bestTest = 0.6237092178\n",
      "bestIteration = 29\n",
      "\n",
      "1:\tloss: 0.6237092\tbest: 0.6445347 (0)\ttotal: 3.25s\tremaining: 29.3s\n",
      "\n",
      "bestTest = 0.6292669786\n",
      "bestIteration = 29\n",
      "\n",
      "2:\tloss: 0.6292670\tbest: 0.6445347 (0)\ttotal: 5.19s\tremaining: 29.4s\n",
      "\n",
      "bestTest = 0.7449598545\n",
      "bestIteration = 29\n",
      "\n",
      "3:\tloss: 0.7449599\tbest: 0.7449599 (3)\ttotal: 7.39s\tremaining: 29.6s\n",
      "\n",
      "bestTest = 0.7523263409\n",
      "bestIteration = 49\n",
      "\n",
      "4:\tloss: 0.7523263\tbest: 0.7523263 (4)\ttotal: 11.1s\tremaining: 33.2s\n",
      "\n",
      "bestTest = 0.7616649952\n",
      "bestIteration = 96\n",
      "\n",
      "5:\tloss: 0.7616650\tbest: 0.7616650 (5)\ttotal: 36.9s\tremaining: 1m 26s\n",
      "\n",
      "bestTest = 0.7000626891\n",
      "bestIteration = 96\n",
      "\n",
      "6:\tloss: 0.7000627\tbest: 0.7616650 (5)\ttotal: 38.1s\tremaining: 1m 10s\n",
      "\n",
      "bestTest = 0.7169438841\n",
      "bestIteration = 49\n",
      "\n",
      "7:\tloss: 0.7169439\tbest: 0.7616650 (5)\ttotal: 39.2s\tremaining: 58.8s\n",
      "\n",
      "bestTest = 0.7506773334\n",
      "bestIteration = 99\n",
      "\n",
      "8:\tloss: 0.7506773\tbest: 0.7616650 (5)\ttotal: 46.1s\tremaining: 56.4s\n",
      "\n",
      "bestTest = 0.7410444307\n",
      "bestIteration = 99\n",
      "\n",
      "9:\tloss: 0.7410444\tbest: 0.7616650 (5)\ttotal: 52.9s\tremaining: 52.9s\n",
      "\n",
      "bestTest = 0.710222992\n",
      "bestIteration = 27\n",
      "\n",
      "10:\tloss: 0.7102230\tbest: 0.7616650 (5)\ttotal: 59.7s\tremaining: 48.8s\n",
      "\n",
      "bestTest = 0.7303820411\n",
      "bestIteration = 28\n",
      "\n",
      "11:\tloss: 0.7303820\tbest: 0.7616650 (5)\ttotal: 1m 7s\tremaining: 45s\n",
      "\n",
      "bestTest = 0.7574064089\n",
      "bestIteration = 49\n",
      "\n",
      "12:\tloss: 0.7574064\tbest: 0.7616650 (5)\ttotal: 1m 26s\tremaining: 46.6s\n",
      "\n",
      "bestTest = 0.626543484\n",
      "bestIteration = 48\n",
      "\n",
      "13:\tloss: 0.6265435\tbest: 0.7616650 (5)\ttotal: 1m 27s\tremaining: 37.4s\n",
      "\n",
      "bestTest = 0.7038040265\n",
      "bestIteration = 29\n",
      "\n",
      "14:\tloss: 0.7038040\tbest: 0.7616650 (5)\ttotal: 1m 28s\tremaining: 29.4s\n",
      "\n",
      "bestTest = 0.7245911631\n",
      "bestIteration = 46\n",
      "\n",
      "15:\tloss: 0.7245912\tbest: 0.7616650 (5)\ttotal: 1m 29s\tremaining: 22.4s\n",
      "\n",
      "bestTest = 0.648150535\n",
      "bestIteration = 49\n",
      "\n",
      "16:\tloss: 0.6481505\tbest: 0.7616650 (5)\ttotal: 1m 30s\tremaining: 16s\n",
      "\n",
      "bestTest = 0.7343253322\n",
      "bestIteration = 28\n",
      "\n",
      "17:\tloss: 0.7343253\tbest: 0.7616650 (5)\ttotal: 1m 33s\tremaining: 10.3s\n",
      "\n",
      "bestTest = 0.7117285017\n",
      "bestIteration = 49\n",
      "\n",
      "18:\tloss: 0.7117285\tbest: 0.7616650 (5)\ttotal: 1m 36s\tremaining: 5.1s\n",
      "\n",
      "bestTest = 0.7535773501\n",
      "bestIteration = 28\n",
      "\n",
      "19:\tloss: 0.7535774\tbest: 0.7616650 (5)\ttotal: 1m 45s\tremaining: 0us\n",
      "Estimating final quality...\n",
      "Wall time: 4min 20s\n"
     ]
    },
    {
     "data": {
      "text/plain": [
       "{'params': {'bagging_temperature': 1,\n",
       "  'depth': 10,\n",
       "  'l2_leaf_reg': 3,\n",
       "  'iterations': 100,\n",
       "  'learning_rate': 0.1},\n",
       " 'cv_results': defaultdict(list,\n",
       "             {'iterations': [0,\n",
       "               1,\n",
       "               2,\n",
       "               3,\n",
       "               4,\n",
       "               5,\n",
       "               6,\n",
       "               7,\n",
       "               8,\n",
       "               9,\n",
       "               10,\n",
       "               11,\n",
       "               12,\n",
       "               13,\n",
       "               14,\n",
       "               15,\n",
       "               16,\n",
       "               17,\n",
       "               18,\n",
       "               19,\n",
       "               20,\n",
       "               21,\n",
       "               22,\n",
       "               23,\n",
       "               24,\n",
       "               25,\n",
       "               26,\n",
       "               27,\n",
       "               28,\n",
       "               29,\n",
       "               30,\n",
       "               31,\n",
       "               32,\n",
       "               33,\n",
       "               34,\n",
       "               35,\n",
       "               36,\n",
       "               37,\n",
       "               38,\n",
       "               39,\n",
       "               40,\n",
       "               41,\n",
       "               42,\n",
       "               43,\n",
       "               44,\n",
       "               45,\n",
       "               46,\n",
       "               47,\n",
       "               48,\n",
       "               49,\n",
       "               50,\n",
       "               51,\n",
       "               52,\n",
       "               53,\n",
       "               54,\n",
       "               55,\n",
       "               56,\n",
       "               57,\n",
       "               58,\n",
       "               59,\n",
       "               60,\n",
       "               61,\n",
       "               62,\n",
       "               63,\n",
       "               64,\n",
       "               65,\n",
       "               66,\n",
       "               67,\n",
       "               68,\n",
       "               69,\n",
       "               70,\n",
       "               71,\n",
       "               72,\n",
       "               73,\n",
       "               74,\n",
       "               75,\n",
       "               76,\n",
       "               77,\n",
       "               78,\n",
       "               79,\n",
       "               80,\n",
       "               81,\n",
       "               82,\n",
       "               83,\n",
       "               84,\n",
       "               85,\n",
       "               86,\n",
       "               87,\n",
       "               88,\n",
       "               89,\n",
       "               90,\n",
       "               91,\n",
       "               92,\n",
       "               93,\n",
       "               94,\n",
       "               95,\n",
       "               96,\n",
       "               97,\n",
       "               98,\n",
       "               99],\n",
       "              'test-F1-mean': [0.6085100445249145,\n",
       "               0.6123132667401647,\n",
       "               0.63617446502223,\n",
       "               0.6373139782342266,\n",
       "               0.6368535496682535,\n",
       "               0.6350376769995246,\n",
       "               0.6342382862463757,\n",
       "               0.6383157374630409,\n",
       "               0.6424792991421107,\n",
       "               0.6428271592041814,\n",
       "               0.645785072189469,\n",
       "               0.6521717417121173,\n",
       "               0.6530128843166697,\n",
       "               0.6615905095855725,\n",
       "               0.664069883867525,\n",
       "               0.666376967290665,\n",
       "               0.6677929706360108,\n",
       "               0.6709721464452041,\n",
       "               0.6734431463652235,\n",
       "               0.6794404532570285,\n",
       "               0.680614669325268,\n",
       "               0.6804130465370807,\n",
       "               0.6832711602766208,\n",
       "               0.6822251729374536,\n",
       "               0.6820387242238806,\n",
       "               0.6830357831731725,\n",
       "               0.6887339533411538,\n",
       "               0.6895597353466926,\n",
       "               0.691350735969883,\n",
       "               0.6910684995107916,\n",
       "               0.6909206175741044,\n",
       "               0.6926610504105915,\n",
       "               0.6938245135726429,\n",
       "               0.694985887981612,\n",
       "               0.6936023356436682,\n",
       "               0.692816897552456,\n",
       "               0.6930937767471068,\n",
       "               0.6951403900333089,\n",
       "               0.6989590699768456,\n",
       "               0.6986378461828682,\n",
       "               0.6996423669619157,\n",
       "               0.7024913869560179,\n",
       "               0.7049295744859088,\n",
       "               0.7056556528065419,\n",
       "               0.7054020513593445,\n",
       "               0.7058792090095014,\n",
       "               0.7075214412858871,\n",
       "               0.7079725117764952,\n",
       "               0.7098406030368737,\n",
       "               0.7102242534575108,\n",
       "               0.710280970857705,\n",
       "               0.7102874991570758,\n",
       "               0.7110327695699089,\n",
       "               0.7093276878601731,\n",
       "               0.7119359971304634,\n",
       "               0.7118362128558562,\n",
       "               0.7133157645977937,\n",
       "               0.7143495706814409,\n",
       "               0.7141968664992753,\n",
       "               0.7159591172184269,\n",
       "               0.7169217721093217,\n",
       "               0.7170281642141337,\n",
       "               0.7176126468128914,\n",
       "               0.7158305831265985,\n",
       "               0.716236911433926,\n",
       "               0.7164745866101417,\n",
       "               0.7177222729348542,\n",
       "               0.7191063067885041,\n",
       "               0.7202658231385269,\n",
       "               0.7202268414315174,\n",
       "               0.7212096959399341,\n",
       "               0.7215382250221942,\n",
       "               0.7234820121430461,\n",
       "               0.7230909815284237,\n",
       "               0.7241548343520272,\n",
       "               0.7234497767698768,\n",
       "               0.7228103259804397,\n",
       "               0.7249446616822868,\n",
       "               0.7245129764455005,\n",
       "               0.7246134354927134,\n",
       "               0.7248349859855179,\n",
       "               0.7251816138468358,\n",
       "               0.7261358975719163,\n",
       "               0.7261162679943934,\n",
       "               0.7258653335614242,\n",
       "               0.7286564071413795,\n",
       "               0.7293426784405488,\n",
       "               0.7309909812690505,\n",
       "               0.7290330024625724,\n",
       "               0.7282663030440417,\n",
       "               0.7290753067365147,\n",
       "               0.7299153373856843,\n",
       "               0.7296834362435398,\n",
       "               0.7304214969437026,\n",
       "               0.7315106932713066,\n",
       "               0.7320751076177912,\n",
       "               0.7342479053456086,\n",
       "               0.7347569469246397,\n",
       "               0.7349852696848898,\n",
       "               0.7362253462669898],\n",
       "              'test-F1-std': [0.0253195531854696,\n",
       "               0.022999411159195692,\n",
       "               0.028205630018435884,\n",
       "               0.02337660559743147,\n",
       "               0.02414331193251915,\n",
       "               0.02054395626531891,\n",
       "               0.028298625464189903,\n",
       "               0.035461334497768955,\n",
       "               0.03692049944754873,\n",
       "               0.0326364377638937,\n",
       "               0.029502789081459025,\n",
       "               0.03544561145313693,\n",
       "               0.03482200389300608,\n",
       "               0.030110455154179438,\n",
       "               0.029705174566100178,\n",
       "               0.027411876629273062,\n",
       "               0.027721053003324125,\n",
       "               0.02785524567575549,\n",
       "               0.024582023536157054,\n",
       "               0.022350849718027577,\n",
       "               0.01979103583814937,\n",
       "               0.021561795462838578,\n",
       "               0.02314847595240823,\n",
       "               0.022742778368453332,\n",
       "               0.0226037223288325,\n",
       "               0.02015471007848933,\n",
       "               0.02119307841888291,\n",
       "               0.021880959025870974,\n",
       "               0.02086251637074822,\n",
       "               0.023472887791440734,\n",
       "               0.021313922490467985,\n",
       "               0.01885670102945436,\n",
       "               0.018946295952756684,\n",
       "               0.018627505724159735,\n",
       "               0.019184007467260726,\n",
       "               0.020754872804193535,\n",
       "               0.021163796390870498,\n",
       "               0.02262770688871756,\n",
       "               0.024600611085020447,\n",
       "               0.024983096736549602,\n",
       "               0.022976960612058284,\n",
       "               0.02377096051049214,\n",
       "               0.024276761668952134,\n",
       "               0.02335584916483486,\n",
       "               0.021939984724194117,\n",
       "               0.021832309444095147,\n",
       "               0.0223157165211581,\n",
       "               0.02196579744386547,\n",
       "               0.023389073253000357,\n",
       "               0.02402784612186262,\n",
       "               0.02303378558674723,\n",
       "               0.021028063952918695,\n",
       "               0.022222613355231794,\n",
       "               0.020610044904694032,\n",
       "               0.019965309340202,\n",
       "               0.0176187761501809,\n",
       "               0.018408148106168074,\n",
       "               0.01843621348151086,\n",
       "               0.017920329154824385,\n",
       "               0.017636486051442742,\n",
       "               0.018568695184399398,\n",
       "               0.01749312046100054,\n",
       "               0.018958921187138586,\n",
       "               0.01922861874430696,\n",
       "               0.01957188560970891,\n",
       "               0.019934145936372796,\n",
       "               0.019743122795217012,\n",
       "               0.02098094534481639,\n",
       "               0.020046540008806842,\n",
       "               0.019535246094303755,\n",
       "               0.01879802693691772,\n",
       "               0.019152663194904128,\n",
       "               0.018558483388197263,\n",
       "               0.017343139369020884,\n",
       "               0.017146370793113867,\n",
       "               0.016823350830569947,\n",
       "               0.0172307766457616,\n",
       "               0.016966386327358068,\n",
       "               0.015422940208924853,\n",
       "               0.0161886387327563,\n",
       "               0.016932233726891538,\n",
       "               0.016468807787004318,\n",
       "               0.01762978176975411,\n",
       "               0.017553770660465585,\n",
       "               0.017378547158223973,\n",
       "               0.015344598114847837,\n",
       "               0.01381137481236744,\n",
       "               0.014891176394546103,\n",
       "               0.015613792230538201,\n",
       "               0.014970112741929519,\n",
       "               0.013921734615630952,\n",
       "               0.01372083734509606,\n",
       "               0.01391630430746514,\n",
       "               0.012663202653753427,\n",
       "               0.013406092068143312,\n",
       "               0.011496225346619836,\n",
       "               0.010693589009525273,\n",
       "               0.011122795526716404,\n",
       "               0.010114339283108113,\n",
       "               0.008836950900422809],\n",
       "              'train-F1-mean': [0.6104955395248313,\n",
       "               0.6194781035145024,\n",
       "               0.6412591566129627,\n",
       "               0.6445700398241273,\n",
       "               0.6462294426043387,\n",
       "               0.6464402029668059,\n",
       "               0.647959861712952,\n",
       "               0.6518683934442175,\n",
       "               0.6584199829447182,\n",
       "               0.664841266160394,\n",
       "               0.6656904793329961,\n",
       "               0.678805054578225,\n",
       "               0.6802370358956616,\n",
       "               0.6928433850645443,\n",
       "               0.6964167679960201,\n",
       "               0.7006584893438713,\n",
       "               0.7055343602540305,\n",
       "               0.7108763293484232,\n",
       "               0.7148355539882781,\n",
       "               0.7215633538069531,\n",
       "               0.72544927701725,\n",
       "               0.7281018142330135,\n",
       "               0.7311184298644285,\n",
       "               0.7330588649323244,\n",
       "               0.7354721181590055,\n",
       "               0.7363096515146601,\n",
       "               0.7420902847852071,\n",
       "               0.7452556578985117,\n",
       "               0.7464791623211227,\n",
       "               0.7469498015633591,\n",
       "               0.7514407252260898,\n",
       "               0.7535790645238729,\n",
       "               0.7544242360343787,\n",
       "               0.7569342563221145,\n",
       "               0.7573283257597172,\n",
       "               0.7602356205831009,\n",
       "               0.7642123477098427,\n",
       "               0.7673742954007713,\n",
       "               0.7698495953137803,\n",
       "               0.7709245237191296,\n",
       "               0.773478113257911,\n",
       "               0.7752859868496809,\n",
       "               0.7761420249852946,\n",
       "               0.7797699953129635,\n",
       "               0.7802527936988812,\n",
       "               0.7823244968195981,\n",
       "               0.7833081595335691,\n",
       "               0.7859454718388768,\n",
       "               0.7859201381957114,\n",
       "               0.7882082213032315,\n",
       "               0.7902169346660333,\n",
       "               0.7906554764746657,\n",
       "               0.7909479706815461,\n",
       "               0.7917180918871335,\n",
       "               0.7929493030436799,\n",
       "               0.7945794342537271,\n",
       "               0.7960543653782253,\n",
       "               0.7978400598593256,\n",
       "               0.7996428410539563,\n",
       "               0.8011621706055756,\n",
       "               0.8018942541797113,\n",
       "               0.8023070576551593,\n",
       "               0.8041287158620525,\n",
       "               0.8042115098290392,\n",
       "               0.8053117186999204,\n",
       "               0.8059026501272722,\n",
       "               0.8069578837204314,\n",
       "               0.808222564719917,\n",
       "               0.8102984933082761,\n",
       "               0.8114877177989859,\n",
       "               0.8120862027751292,\n",
       "               0.8149342585624767,\n",
       "               0.8152428910585939,\n",
       "               0.8159541713952512,\n",
       "               0.8184719104181152,\n",
       "               0.819460762480316,\n",
       "               0.819306195250187,\n",
       "               0.8215877211821857,\n",
       "               0.8224313071322845,\n",
       "               0.8242800618494147,\n",
       "               0.824487738475413,\n",
       "               0.824637097294904,\n",
       "               0.8256697378618385,\n",
       "               0.8261027012584756,\n",
       "               0.8272164308750865,\n",
       "               0.8280692485047174,\n",
       "               0.8294268371533773,\n",
       "               0.8300442776408048,\n",
       "               0.8310784859076774,\n",
       "               0.831596678267409,\n",
       "               0.8327365139860319,\n",
       "               0.8330453715958648,\n",
       "               0.8336486796310376,\n",
       "               0.8345864140686376,\n",
       "               0.8356360062331765,\n",
       "               0.8360606750593972,\n",
       "               0.8378002815366259,\n",
       "               0.8386393023189772,\n",
       "               0.8392582709790071,\n",
       "               0.8403593164651794],\n",
       "              'train-F1-std': [0.00854266531881603,\n",
       "               0.013351309362891108,\n",
       "               0.022840043469563986,\n",
       "               0.02133182946046231,\n",
       "               0.018359529353789397,\n",
       "               0.021381973426552556,\n",
       "               0.019876804345686724,\n",
       "               0.020031125759433357,\n",
       "               0.022789862076058383,\n",
       "               0.019357205924297013,\n",
       "               0.01868118943361562,\n",
       "               0.024205154467138744,\n",
       "               0.02610104806560987,\n",
       "               0.01405362849347123,\n",
       "               0.015262706935911786,\n",
       "               0.017057392650698056,\n",
       "               0.015166237926950536,\n",
       "               0.017789651375732986,\n",
       "               0.01604940184886373,\n",
       "               0.011334980643496851,\n",
       "               0.012957424940721116,\n",
       "               0.01288292885347239,\n",
       "               0.010761654542340366,\n",
       "               0.011094136902048836,\n",
       "               0.011933254089684186,\n",
       "               0.012542305031086293,\n",
       "               0.008483927811505101,\n",
       "               0.007225138935147933,\n",
       "               0.008906499862809707,\n",
       "               0.008551055599383718,\n",
       "               0.010114366026357754,\n",
       "               0.008331284044267168,\n",
       "               0.0077121814187962115,\n",
       "               0.008221241656884025,\n",
       "               0.00922765822853805,\n",
       "               0.009902362494120204,\n",
       "               0.006708440162144934,\n",
       "               0.006115508180169151,\n",
       "               0.005916188982236739,\n",
       "               0.004753799936855374,\n",
       "               0.005083992666845169,\n",
       "               0.004668668401500269,\n",
       "               0.003831303664299877,\n",
       "               0.004085422970990577,\n",
       "               0.005202273731958137,\n",
       "               0.0065864820206667455,\n",
       "               0.0053654397135975305,\n",
       "               0.005287247867866724,\n",
       "               0.00280637886457844,\n",
       "               0.004060313319275437,\n",
       "               0.006618681757827577,\n",
       "               0.0055855273851197615,\n",
       "               0.006408266533298107,\n",
       "               0.00540831509247162,\n",
       "               0.005450371523109679,\n",
       "               0.005283010127850186,\n",
       "               0.004137916390444316,\n",
       "               0.005870173664036585,\n",
       "               0.005785374596979395,\n",
       "               0.0057522883524035815,\n",
       "               0.006018228177773106,\n",
       "               0.0060436474574057635,\n",
       "               0.004782050110881527,\n",
       "               0.00530505699586444,\n",
       "               0.006251888569744325,\n",
       "               0.0074464409016294815,\n",
       "               0.006759466272920629,\n",
       "               0.006519175739737633,\n",
       "               0.006522736660900598,\n",
       "               0.006346627938314614,\n",
       "               0.006568681945807888,\n",
       "               0.008503338263518198,\n",
       "               0.00851284772019331,\n",
       "               0.008036992061797333,\n",
       "               0.00799650306219008,\n",
       "               0.008607690809737964,\n",
       "               0.009078625522235184,\n",
       "               0.00884587249649102,\n",
       "               0.008938244513141583,\n",
       "               0.006825382062455205,\n",
       "               0.006535093921361113,\n",
       "               0.00557402317194849,\n",
       "               0.005268216218728139,\n",
       "               0.005721822006117185,\n",
       "               0.00547606964364591,\n",
       "               0.0062954083499250834,\n",
       "               0.007099953275293204,\n",
       "               0.00720051203684519,\n",
       "               0.006039142359570817,\n",
       "               0.005484713997303921,\n",
       "               0.005578386649355136,\n",
       "               0.006852897045550636,\n",
       "               0.006068180867418738,\n",
       "               0.007311611480739234,\n",
       "               0.007671371849155322,\n",
       "               0.0068265873204422095,\n",
       "               0.007850814752073465,\n",
       "               0.008126073473830854,\n",
       "               0.008888662435007202,\n",
       "               0.009817284401253918],\n",
       "              'test-Logloss-mean': [0.6527582672642969,\n",
       "               0.6242274183561343,\n",
       "               0.6029543848023933,\n",
       "               0.587584580244448,\n",
       "               0.5777631862073672,\n",
       "               0.5707248497577422,\n",
       "               0.565423629800464,\n",
       "               0.5598397979172656,\n",
       "               0.5563549328105337,\n",
       "               0.553157104779815,\n",
       "               0.5501699178845042,\n",
       "               0.5476999809217769,\n",
       "               0.545911651264252,\n",
       "               0.5439798304097171,\n",
       "               0.5421939229866666,\n",
       "               0.5407614800969769,\n",
       "               0.5391525631105745,\n",
       "               0.5375833586825529,\n",
       "               0.5360639424852923,\n",
       "               0.5344370697029474,\n",
       "               0.5327464304146774,\n",
       "               0.5319595057960795,\n",
       "               0.5312033043050853,\n",
       "               0.5300091247867369,\n",
       "               0.5289279435043461,\n",
       "               0.5280580782034383,\n",
       "               0.5265538434589612,\n",
       "               0.5256388929315362,\n",
       "               0.5247781885802283,\n",
       "               0.5240197284013511,\n",
       "               0.5231796105220754,\n",
       "               0.5222873050525185,\n",
       "               0.5216671048205141,\n",
       "               0.5214760118776994,\n",
       "               0.5211616427950879,\n",
       "               0.5203735338437564,\n",
       "               0.5193293090339413,\n",
       "               0.5185442477168263,\n",
       "               0.5180272013237885,\n",
       "               0.5175790380269605,\n",
       "               0.5169587736369963,\n",
       "               0.5160664235084347,\n",
       "               0.5154958941124972,\n",
       "               0.5144709714466902,\n",
       "               0.5140488512802733,\n",
       "               0.5134540753990772,\n",
       "               0.5130088566089169,\n",
       "               0.5126857268743585,\n",
       "               0.5120589145560628,\n",
       "               0.5116541130185612,\n",
       "               0.5110818490216815,\n",
       "               0.5107209446005736,\n",
       "               0.5101771122845256,\n",
       "               0.5093816829555499,\n",
       "               0.5092510002558912,\n",
       "               0.5086904170439415,\n",
       "               0.5083230710160519,\n",
       "               0.5076407109085256,\n",
       "               0.5072872486774678,\n",
       "               0.5068130517931256,\n",
       "               0.5065233337930819,\n",
       "               0.5061377267121306,\n",
       "               0.5048001878794077,\n",
       "               0.5042365914147343,\n",
       "               0.503836876915247,\n",
       "               0.503356405579513,\n",
       "               0.5026601855849887,\n",
       "               0.5021542999837163,\n",
       "               0.5016578153422695,\n",
       "               0.5013660531785928,\n",
       "               0.5011256625873142,\n",
       "               0.5004898037829929,\n",
       "               0.5001449430073432,\n",
       "               0.4996758322598274,\n",
       "               0.49911870357462895,\n",
       "               0.49879402295860026,\n",
       "               0.4984999038485511,\n",
       "               0.49788548951947903,\n",
       "               0.4976359362183116,\n",
       "               0.4972517042339596,\n",
       "               0.4971554933238089,\n",
       "               0.4968186985206325,\n",
       "               0.4962019429455081,\n",
       "               0.49575484062177927,\n",
       "               0.49528291965780824,\n",
       "               0.4946153354353135,\n",
       "               0.4941965700727679,\n",
       "               0.49407801852083055,\n",
       "               0.49367459632876276,\n",
       "               0.4932695547822215,\n",
       "               0.49315548956215316,\n",
       "               0.49288441277661005,\n",
       "               0.49270729598431046,\n",
       "               0.4920622498381366,\n",
       "               0.4915897863242593,\n",
       "               0.4911845086827903,\n",
       "               0.49079055482332057,\n",
       "               0.4902904063046158,\n",
       "               0.49015014191219475,\n",
       "               0.48959546300638956],\n",
       "              'test-Logloss-std': [0.0032717810065754555,\n",
       "               0.004591390261464814,\n",
       "               0.005572911995632339,\n",
       "               0.005178712851230371,\n",
       "               0.005208699901830107,\n",
       "               0.004764032407119205,\n",
       "               0.005164303881312477,\n",
       "               0.005080544353256968,\n",
       "               0.004702943295030702,\n",
       "               0.005120500496568067,\n",
       "               0.004492617034571166,\n",
       "               0.004724863628448393,\n",
       "               0.004864285220846322,\n",
       "               0.005706726307709301,\n",
       "               0.0068083519338438675,\n",
       "               0.00657402995038885,\n",
       "               0.0066628504180630665,\n",
       "               0.006878688299707166,\n",
       "               0.006421675208460273,\n",
       "               0.006583497515705608,\n",
       "               0.006831579374900873,\n",
       "               0.00673058886256494,\n",
       "               0.006915754528938506,\n",
       "               0.007209893963151291,\n",
       "               0.007663080995675003,\n",
       "               0.007616179581053409,\n",
       "               0.007737610675413825,\n",
       "               0.007733950195859032,\n",
       "               0.0075023850687154165,\n",
       "               0.007597657354713372,\n",
       "               0.008190590531654109,\n",
       "               0.00738487394938125,\n",
       "               0.007476926513825468,\n",
       "               0.007320074776894189,\n",
       "               0.007585752451659416,\n",
       "               0.00751251856394267,\n",
       "               0.007200925314791512,\n",
       "               0.007054942564644665,\n",
       "               0.006963361941462247,\n",
       "               0.0070111253366900595,\n",
       "               0.007343440164579891,\n",
       "               0.007296866523271822,\n",
       "               0.007156167565419469,\n",
       "               0.006806299265279278,\n",
       "               0.006528779113691086,\n",
       "               0.006562619326006539,\n",
       "               0.006732583710456428,\n",
       "               0.0068002379861430646,\n",
       "               0.0065864106110676305,\n",
       "               0.006313543112803003,\n",
       "               0.006208665355067531,\n",
       "               0.006346169142079618,\n",
       "               0.0066967838768434455,\n",
       "               0.0068276233043447305,\n",
       "               0.006905996883627383,\n",
       "               0.006610902044729649,\n",
       "               0.0067888252611543395,\n",
       "               0.006840408131038243,\n",
       "               0.006770204510101865,\n",
       "               0.006704170489247669,\n",
       "               0.006824293554752664,\n",
       "               0.006737902161930436,\n",
       "               0.007363813860980029,\n",
       "               0.0072273985698412075,\n",
       "               0.0072334754211756235,\n",
       "               0.007039346808343388,\n",
       "               0.006967171307396807,\n",
       "               0.007234327729690058,\n",
       "               0.00725139496883625,\n",
       "               0.00723915595906761,\n",
       "               0.007166159884199216,\n",
       "               0.007211638999741638,\n",
       "               0.007138948465148573,\n",
       "               0.007374109094348627,\n",
       "               0.007261663036243907,\n",
       "               0.007007400671365333,\n",
       "               0.00680073736653727,\n",
       "               0.006588627310431363,\n",
       "               0.00663513738754897,\n",
       "               0.006716674473305879,\n",
       "               0.006709660292683065,\n",
       "               0.0066374208058680466,\n",
       "               0.007174776558913443,\n",
       "               0.007146113797985824,\n",
       "               0.0072769004979516905,\n",
       "               0.007114715705087335,\n",
       "               0.00703177612415911,\n",
       "               0.006953779228812818,\n",
       "               0.006793494371692452,\n",
       "               0.0068101725601708825,\n",
       "               0.0066496236856943705,\n",
       "               0.006345815585358348,\n",
       "               0.006461653558469107,\n",
       "               0.00629849084417621,\n",
       "               0.006394388584545685,\n",
       "               0.006181486035824266,\n",
       "               0.006444652100953325,\n",
       "               0.006199823877567227,\n",
       "               0.006331795399529751,\n",
       "               0.006078029931158682],\n",
       "              'train-Logloss-mean': [0.6519913208974076,\n",
       "               0.6223473956592204,\n",
       "               0.6003150083311342,\n",
       "               0.5841068292417269,\n",
       "               0.5732427992571643,\n",
       "               0.5653282934692405,\n",
       "               0.5593712124723849,\n",
       "               0.5530887483058262,\n",
       "               0.5484744585012141,\n",
       "               0.5445713286139432,\n",
       "               0.5412478327735839,\n",
       "               0.5372073550742474,\n",
       "               0.5343378733450216,\n",
       "               0.5306184952147086,\n",
       "               0.5279724219350579,\n",
       "               0.5249781713494616,\n",
       "               0.5220416202881577,\n",
       "               0.5191608516940285,\n",
       "               0.5159010529810373,\n",
       "               0.5129022507287517,\n",
       "               0.5099103927242876,\n",
       "               0.507753938350848,\n",
       "               0.505320380810122,\n",
       "               0.5033395429768684,\n",
       "               0.5015470203507699,\n",
       "               0.4991999342933644,\n",
       "               0.49606334308435673,\n",
       "               0.49419916708476086,\n",
       "               0.49279407694810085,\n",
       "               0.49094661039377535,\n",
       "               0.48873886767561414,\n",
       "               0.4864043375974926,\n",
       "               0.4850050453971485,\n",
       "               0.4832757628694064,\n",
       "               0.4820063373247169,\n",
       "               0.4802284140678267,\n",
       "               0.47801689192351465,\n",
       "               0.47629667720758995,\n",
       "               0.4748408505698247,\n",
       "               0.4731797876409346,\n",
       "               0.4710286759654183,\n",
       "               0.4696582400591976,\n",
       "               0.4683947885453055,\n",
       "               0.46561117120816553,\n",
       "               0.4645366141730463,\n",
       "               0.4629704923581287,\n",
       "               0.4614907091289776,\n",
       "               0.460422674176397,\n",
       "               0.458947299650504,\n",
       "               0.4577598892708153,\n",
       "               0.4561442046528736,\n",
       "               0.45483826420359225,\n",
       "               0.4534312212926267,\n",
       "               0.45223821577848494,\n",
       "               0.45168035849580035,\n",
       "               0.4501798312172845,\n",
       "               0.4491361494607727,\n",
       "               0.4478090531248441,\n",
       "               0.4467370402434286,\n",
       "               0.44551045936590095,\n",
       "               0.4442865825247564,\n",
       "               0.4435114320425305,\n",
       "               0.44182208483388125,\n",
       "               0.440712312108385,\n",
       "               0.4396513064272499,\n",
       "               0.43826929141739945,\n",
       "               0.43704817679906316,\n",
       "               0.43600627374325224,\n",
       "               0.43464692414579165,\n",
       "               0.4336621073554994,\n",
       "               0.43285729896194347,\n",
       "               0.4313865226291755,\n",
       "               0.43066006868783546,\n",
       "               0.42984168649420307,\n",
       "               0.42863584909581853,\n",
       "               0.4272963763290482,\n",
       "               0.42654123982646847,\n",
       "               0.425510631074845,\n",
       "               0.4246116837590678,\n",
       "               0.4232590824571692,\n",
       "               0.42299110924420963,\n",
       "               0.4225256461287376,\n",
       "               0.421306483972917,\n",
       "               0.4203267127212785,\n",
       "               0.4193139398772999,\n",
       "               0.41820239820487914,\n",
       "               0.4169345702106505,\n",
       "               0.41613063826949437,\n",
       "               0.41528768082966216,\n",
       "               0.4135881735125346,\n",
       "               0.4127479766575898,\n",
       "               0.4115639024226505,\n",
       "               0.41088110842229897,\n",
       "               0.409890506759954,\n",
       "               0.40908319357101497,\n",
       "               0.40806953196444623,\n",
       "               0.40686919635047786,\n",
       "               0.40581160231800356,\n",
       "               0.40490198891608536,\n",
       "               0.4039671854671054],\n",
       "              'train-Logloss-std': [0.0014138163724445466,\n",
       "               0.0019100760496469883,\n",
       "               0.0017660657881225532,\n",
       "               0.0010483316251660183,\n",
       "               0.000915866314965551,\n",
       "               0.002222086989540112,\n",
       "               0.002037812991302519,\n",
       "               0.002627127703239358,\n",
       "               0.0030047014295622302,\n",
       "               0.002455989869017308,\n",
       "               0.0038162612479207365,\n",
       "               0.003250265927890849,\n",
       "               0.003157707439978944,\n",
       "               0.0027211846002906212,\n",
       "               0.003481518227638709,\n",
       "               0.0046687379607265305,\n",
       "               0.0043968283542487815,\n",
       "               0.005249028264607703,\n",
       "               0.005199872287596493,\n",
       "               0.004774443949555803,\n",
       "               0.005653922423874607,\n",
       "               0.005562622915951187,\n",
       "               0.005825733722877363,\n",
       "               0.005909631946405541,\n",
       "               0.006161231488802375,\n",
       "               0.005719360044187488,\n",
       "               0.004880505672383285,\n",
       "               0.0050528951396580655,\n",
       "               0.005282555434222745,\n",
       "               0.0055555534162507435,\n",
       "               0.006519707553547804,\n",
       "               0.005664803140081097,\n",
       "               0.005739808079526156,\n",
       "               0.005925971232996562,\n",
       "               0.005545921187460643,\n",
       "               0.00568979332609191,\n",
       "               0.004985612818005021,\n",
       "               0.0051033625239755315,\n",
       "               0.005480705621232159,\n",
       "               0.00568803390583212,\n",
       "               0.005807113714767806,\n",
       "               0.005825237261928007,\n",
       "               0.0060785157964104745,\n",
       "               0.005566729915497319,\n",
       "               0.005705298319294864,\n",
       "               0.006025308598196202,\n",
       "               0.005936353271384261,\n",
       "               0.006416936488915182,\n",
       "               0.005967094495021018,\n",
       "               0.006317240804705237,\n",
       "               0.007139267591851906,\n",
       "               0.006361498446347495,\n",
       "               0.006446330404667891,\n",
       "               0.006718872649319224,\n",
       "               0.006773219966727681,\n",
       "               0.007732678501098802,\n",
       "               0.0072225891523723775,\n",
       "               0.007067880189224957,\n",
       "               0.006836188379655645,\n",
       "               0.007068418402063625,\n",
       "               0.006285164441605981,\n",
       "               0.006273359047604278,\n",
       "               0.005321803237746708,\n",
       "               0.005982570605180017,\n",
       "               0.005751414396293657,\n",
       "               0.006680516669854421,\n",
       "               0.006679349406326909,\n",
       "               0.006472131855777996,\n",
       "               0.005813729142673494,\n",
       "               0.00558989742244761,\n",
       "               0.0057448149947416415,\n",
       "               0.006587171995049961,\n",
       "               0.006202758783063854,\n",
       "               0.006245263026430667,\n",
       "               0.005895681719105575,\n",
       "               0.005901410817576805,\n",
       "               0.006170170611069293,\n",
       "               0.006464321589020849,\n",
       "               0.0064602893673070955,\n",
       "               0.006405809448783079,\n",
       "               0.006425521013234818,\n",
       "               0.006219441568367872,\n",
       "               0.004905798298095223,\n",
       "               0.0046693900420708805,\n",
       "               0.0043957362559086605,\n",
       "               0.00444261019987806,\n",
       "               0.003771612036622812,\n",
       "               0.0034507321844435834,\n",
       "               0.003525303997976169,\n",
       "               0.004312205285344162,\n",
       "               0.0044667050430281605,\n",
       "               0.004699600354696141,\n",
       "               0.004729776781384781,\n",
       "               0.004975103078754168,\n",
       "               0.004946584854785353,\n",
       "               0.005485837914471508,\n",
       "               0.004902396705726744,\n",
       "               0.005503434903199298,\n",
       "               0.006296118460786881,\n",
       "               0.006644171011442542]})}"
      ]
     },
     "execution_count": 322,
     "metadata": {},
     "output_type": "execute_result"
    }
   ],
   "source": [
    "%%time\n",
    "\n",
    "model_catb = CatBoostClassifier(**params)\n",
    "\n",
    "params_grid = {\n",
    "    'depth': [4, 6, 8, 10],\n",
    "    'learning_rate': [0.03, 0.1, 0.3, 0.5],\n",
    "    'iterations': [30, 50, 100],\n",
    "    'l2_leaf_reg': [2, 2.5, 3, 3.5, 4],\n",
    "    'bagging_temperature': [1, 1.5, 2]\n",
    "}\n",
    "\n",
    "gs = model_catb.randomized_search(\n",
    "    params_grid,\n",
    "    train_pool,\n",
    "    n_iter=20,\n",
    "    shuffle=True,\n",
    "    stratified=True,\n",
    "    partition_random_seed=42,\n",
    "    cv=5\n",
    ")\n",
    "\n",
    "gs"
   ]
  },
  {
   "cell_type": "markdown",
   "metadata": {},
   "source": [
    "Используем лучшие параметры для обучения финальной модели"
   ]
  },
  {
   "cell_type": "markdown",
   "metadata": {},
   "source": [
    "# Обучение модели с настроенными гиперпараметрами"
   ]
  },
  {
   "cell_type": "code",
   "execution_count": 323,
   "metadata": {},
   "outputs": [],
   "source": [
    "params_model = {\n",
    "    'eval_metric': 'F1',\n",
    "    'silent': True,\n",
    "    'cat_features': CAT_FEATURE_NAMES,\n",
    "    'auto_class_weights': 'Balanced',\n",
    "    'one_hot_max_size': 20,\n",
    "    'early_stopping_rounds': 50,\n",
    "    'boosting_type': 'Ordered',\n",
    "    'allow_writing_files': False,\n",
    "    'bagging_temperature': 1,\n",
    "    'depth': 10,\n",
    "    'l2_leaf_reg': 3,\n",
    "    'iterations': 100,\n",
    "    'learning_rate': 0.1\n",
    "}"
   ]
  },
  {
   "cell_type": "code",
   "execution_count": 324,
   "metadata": {},
   "outputs": [
    {
     "name": "stdout",
     "output_type": "stream",
     "text": [
      "TRAIN\n",
      "\n",
      "              precision    recall  f1-score   support\n",
      "\n",
      "           0       0.80      0.77      0.79      3771\n",
      "           1       0.72      0.75      0.74      2958\n",
      "\n",
      "    accuracy                           0.76      6729\n",
      "   macro avg       0.76      0.76      0.76      6729\n",
      "weighted avg       0.76      0.76      0.76      6729\n",
      "\n",
      "TEST\n",
      "\n",
      "              precision    recall  f1-score   support\n",
      "\n",
      "           0       0.83      0.73      0.78      1616\n",
      "           1       0.48      0.63      0.54       634\n",
      "\n",
      "    accuracy                           0.70      2250\n",
      "   macro avg       0.66      0.68      0.66      2250\n",
      "weighted avg       0.73      0.70      0.71      2250\n",
      "\n",
      "CONFUSION MATRIX\n",
      "\n",
      "col_0              0    1\n",
      "Credit Default           \n",
      "0               1183  433\n",
      "1                236  398\n",
      "Wall time: 30.1 s\n"
     ]
    }
   ],
   "source": [
    "%%time\n",
    "\n",
    "model_catb = catb.CatBoostClassifier(\n",
    "    **params_model,\n",
    "    random_state=21\n",
    ")\n",
    "\n",
    "model_catb.fit(X_train, y_train)\n",
    "\n",
    "y_train_pred = model_catb.predict(X_train)\n",
    "y_test_pred = model_catb.predict(X_test)\n",
    "\n",
    "get_classification_report(y_train, y_train_pred, y_test, y_test_pred)"
   ]
  },
  {
   "cell_type": "markdown",
   "metadata": {},
   "source": [
    "Модель сильно переобучена. Попробуем изменить рекомендованные параметры и снизить переобучение модели."
   ]
  },
  {
   "cell_type": "markdown",
   "metadata": {},
   "source": [
    "## Снижение степени переобучения"
   ]
  },
  {
   "cell_type": "code",
   "execution_count": 344,
   "metadata": {},
   "outputs": [],
   "source": [
    "params_model_optimum = {\n",
    "    'eval_metric': 'F1',\n",
    "    'silent': True,\n",
    "    'cat_features': CAT_FEATURE_NAMES,\n",
    "    'auto_class_weights': 'Balanced',\n",
    "    'one_hot_max_size': 30,\n",
    "    'early_stopping_rounds': 50,\n",
    "    'boosting_type': 'Ordered',\n",
    "    'allow_writing_files': False,\n",
    "\n",
    "    'depth': 3,\n",
    "    'iterations': 55,\n",
    "    'bagging_temperature': 1.5,\n",
    "    'learning_rate': 0.3,\n",
    "    'l2_leaf_reg': 6\n",
    "    \n",
    "}"
   ]
  },
  {
   "cell_type": "code",
   "execution_count": 345,
   "metadata": {},
   "outputs": [
    {
     "name": "stdout",
     "output_type": "stream",
     "text": [
      "TRAIN\n",
      "\n",
      "              precision    recall  f1-score   support\n",
      "\n",
      "           0       0.76      0.73      0.75      3771\n",
      "           1       0.67      0.71      0.69      2958\n",
      "\n",
      "    accuracy                           0.72      6729\n",
      "   macro avg       0.72      0.72      0.72      6729\n",
      "weighted avg       0.72      0.72      0.72      6729\n",
      "\n",
      "TEST\n",
      "\n",
      "              precision    recall  f1-score   support\n",
      "\n",
      "           0       0.84      0.71      0.77      1616\n",
      "           1       0.47      0.66      0.55       634\n",
      "\n",
      "    accuracy                           0.69      2250\n",
      "   macro avg       0.66      0.69      0.66      2250\n",
      "weighted avg       0.74      0.69      0.71      2250\n",
      "\n",
      "CONFUSION MATRIX\n",
      "\n",
      "col_0              0    1\n",
      "Credit Default           \n",
      "0               1142  474\n",
      "1                213  421\n",
      "Wall time: 545 ms\n"
     ]
    }
   ],
   "source": [
    "%%time\n",
    "\n",
    "final_model = catb.CatBoostClassifier(\n",
    "    **params_model_optimum,\n",
    "    random_state=21\n",
    ")\n",
    "\n",
    "final_model.fit(X_train, y_train)\n",
    "\n",
    "y_train_pred = final_model.predict(X_train)\n",
    "y_test_pred = final_model.predict(X_test)\n",
    "\n",
    "get_classification_report(y_train, y_train_pred, y_test, y_test_pred)"
   ]
  },
  {
   "cell_type": "code",
   "execution_count": 346,
   "metadata": {},
   "outputs": [
    {
     "data": {
      "text/plain": [
       "array([ 6.79343861,  1.64120995,  1.08507108,  3.90699587, 29.32490688,\n",
       "        1.6444309 ,  3.07955639, 44.07717646,  1.16531389,  0.        ,\n",
       "        0.81565783,  6.46624213])"
      ]
     },
     "execution_count": 346,
     "metadata": {},
     "output_type": "execute_result"
    }
   ],
   "source": [
    "final_model.feature_importances_"
   ]
  },
  {
   "cell_type": "code",
   "execution_count": 347,
   "metadata": {},
   "outputs": [],
   "source": [
    "feature_importances = pd.DataFrame(zip(X_train.columns, \n",
    "                                       final_model.feature_importances_), \n",
    "                                   columns=['feature_name', 'importance'])\n",
    "\n",
    "feature_importances.sort_values(by='importance', ascending=False, inplace=True)"
   ]
  },
  {
   "cell_type": "code",
   "execution_count": 348,
   "metadata": {},
   "outputs": [
    {
     "data": {
      "text/html": [
       "<div>\n",
       "<style scoped>\n",
       "    .dataframe tbody tr th:only-of-type {\n",
       "        vertical-align: middle;\n",
       "    }\n",
       "\n",
       "    .dataframe tbody tr th {\n",
       "        vertical-align: top;\n",
       "    }\n",
       "\n",
       "    .dataframe thead th {\n",
       "        text-align: right;\n",
       "    }\n",
       "</style>\n",
       "<table border=\"1\" class=\"dataframe\">\n",
       "  <thead>\n",
       "    <tr style=\"text-align: right;\">\n",
       "      <th></th>\n",
       "      <th>feature_name</th>\n",
       "      <th>importance</th>\n",
       "    </tr>\n",
       "  </thead>\n",
       "  <tbody>\n",
       "    <tr>\n",
       "      <th>7</th>\n",
       "      <td>Credit Score</td>\n",
       "      <td>44.077176</td>\n",
       "    </tr>\n",
       "    <tr>\n",
       "      <th>4</th>\n",
       "      <td>Current Loan Amount</td>\n",
       "      <td>29.324907</td>\n",
       "    </tr>\n",
       "    <tr>\n",
       "      <th>0</th>\n",
       "      <td>Annual Income</td>\n",
       "      <td>6.793439</td>\n",
       "    </tr>\n",
       "    <tr>\n",
       "      <th>11</th>\n",
       "      <td>Term</td>\n",
       "      <td>6.466242</td>\n",
       "    </tr>\n",
       "    <tr>\n",
       "      <th>3</th>\n",
       "      <td>Maximum Open Credit</td>\n",
       "      <td>3.906996</td>\n",
       "    </tr>\n",
       "    <tr>\n",
       "      <th>6</th>\n",
       "      <td>Monthly Debt</td>\n",
       "      <td>3.079556</td>\n",
       "    </tr>\n",
       "    <tr>\n",
       "      <th>5</th>\n",
       "      <td>Current Credit Balance</td>\n",
       "      <td>1.644431</td>\n",
       "    </tr>\n",
       "    <tr>\n",
       "      <th>1</th>\n",
       "      <td>Number of Open Accounts</td>\n",
       "      <td>1.641210</td>\n",
       "    </tr>\n",
       "    <tr>\n",
       "      <th>8</th>\n",
       "      <td>Home Ownership</td>\n",
       "      <td>1.165314</td>\n",
       "    </tr>\n",
       "    <tr>\n",
       "      <th>2</th>\n",
       "      <td>Years of Credit History</td>\n",
       "      <td>1.085071</td>\n",
       "    </tr>\n",
       "    <tr>\n",
       "      <th>10</th>\n",
       "      <td>Purpose</td>\n",
       "      <td>0.815658</td>\n",
       "    </tr>\n",
       "    <tr>\n",
       "      <th>9</th>\n",
       "      <td>Years in current job</td>\n",
       "      <td>0.000000</td>\n",
       "    </tr>\n",
       "  </tbody>\n",
       "</table>\n",
       "</div>"
      ],
      "text/plain": [
       "               feature_name  importance\n",
       "7              Credit Score   44.077176\n",
       "4       Current Loan Amount   29.324907\n",
       "0             Annual Income    6.793439\n",
       "11                     Term    6.466242\n",
       "3       Maximum Open Credit    3.906996\n",
       "6              Monthly Debt    3.079556\n",
       "5    Current Credit Balance    1.644431\n",
       "1   Number of Open Accounts    1.641210\n",
       "8            Home Ownership    1.165314\n",
       "2   Years of Credit History    1.085071\n",
       "10                  Purpose    0.815658\n",
       "9      Years in current job    0.000000"
      ]
     },
     "execution_count": 348,
     "metadata": {},
     "output_type": "execute_result"
    }
   ],
   "source": [
    "feature_importances.head(15)"
   ]
  },
  {
   "cell_type": "markdown",
   "metadata": {},
   "source": [
    "# Предсказание на валидационных данных"
   ]
  },
  {
   "cell_type": "code",
   "execution_count": 349,
   "metadata": {},
   "outputs": [],
   "source": [
    "test_df = pd.read_csv(TEST_DATASET_PATH)\n",
    "\n",
    "\n",
    "# Обработка тестовой выборки\n",
    "data_inst.fit(test_df)\n",
    "\n",
    "test_df = data_inst.transform_other_features(test_df)"
   ]
  },
  {
   "cell_type": "code",
   "execution_count": 350,
   "metadata": {},
   "outputs": [
    {
     "data": {
      "text/html": [
       "<div>\n",
       "<style scoped>\n",
       "    .dataframe tbody tr th:only-of-type {\n",
       "        vertical-align: middle;\n",
       "    }\n",
       "\n",
       "    .dataframe tbody tr th {\n",
       "        vertical-align: top;\n",
       "    }\n",
       "\n",
       "    .dataframe thead th {\n",
       "        text-align: right;\n",
       "    }\n",
       "</style>\n",
       "<table border=\"1\" class=\"dataframe\">\n",
       "  <thead>\n",
       "    <tr style=\"text-align: right;\">\n",
       "      <th></th>\n",
       "      <th>Id</th>\n",
       "      <th>Credit Default</th>\n",
       "    </tr>\n",
       "  </thead>\n",
       "  <tbody>\n",
       "    <tr>\n",
       "      <th>0</th>\n",
       "      <td>0</td>\n",
       "      <td>1</td>\n",
       "    </tr>\n",
       "    <tr>\n",
       "      <th>1</th>\n",
       "      <td>1</td>\n",
       "      <td>1</td>\n",
       "    </tr>\n",
       "    <tr>\n",
       "      <th>2</th>\n",
       "      <td>2</td>\n",
       "      <td>1</td>\n",
       "    </tr>\n",
       "    <tr>\n",
       "      <th>3</th>\n",
       "      <td>3</td>\n",
       "      <td>1</td>\n",
       "    </tr>\n",
       "    <tr>\n",
       "      <th>4</th>\n",
       "      <td>4</td>\n",
       "      <td>1</td>\n",
       "    </tr>\n",
       "  </tbody>\n",
       "</table>\n",
       "</div>"
      ],
      "text/plain": [
       "   Id  Credit Default\n",
       "0   0               1\n",
       "1   1               1\n",
       "2   2               1\n",
       "3   3               1\n",
       "4   4               1"
      ]
     },
     "execution_count": 350,
     "metadata": {},
     "output_type": "execute_result"
    }
   ],
   "source": [
    "submit = pd.read_csv('./Desktop/alistale/GB/kaggle/Credit/sample_submission.csv')\n",
    "submit.head()"
   ]
  },
  {
   "cell_type": "code",
   "execution_count": 351,
   "metadata": {},
   "outputs": [],
   "source": [
    "X = test_df[NUM_FEATURE_NAMES + CAT_FEATURE_NAMES]"
   ]
  },
  {
   "cell_type": "code",
   "execution_count": 352,
   "metadata": {},
   "outputs": [
    {
     "data": {
      "text/plain": [
       "Home Ownership          category\n",
       "Years in current job    category\n",
       "Purpose                 category\n",
       "Term                    category\n",
       "dtype: object"
      ]
     },
     "execution_count": 352,
     "metadata": {},
     "output_type": "execute_result"
    }
   ],
   "source": [
    "for colname in CAT_FEATURE_NAMES:\n",
    "    test_df[colname] = pd.Categorical(test_df[colname])\n",
    "    \n",
    "test_df[CAT_FEATURE_NAMES].dtypes"
   ]
  },
  {
   "cell_type": "code",
   "execution_count": 353,
   "metadata": {},
   "outputs": [
    {
     "data": {
      "text/plain": [
       "array([0, 1, 1, ..., 1, 0, 1], dtype=int64)"
      ]
     },
     "execution_count": 353,
     "metadata": {},
     "output_type": "execute_result"
    }
   ],
   "source": [
    "predictions = final_model.predict(X)\n",
    "predictions"
   ]
  },
  {
   "cell_type": "code",
   "execution_count": 354,
   "metadata": {},
   "outputs": [
    {
     "data": {
      "text/html": [
       "<div>\n",
       "<style scoped>\n",
       "    .dataframe tbody tr th:only-of-type {\n",
       "        vertical-align: middle;\n",
       "    }\n",
       "\n",
       "    .dataframe tbody tr th {\n",
       "        vertical-align: top;\n",
       "    }\n",
       "\n",
       "    .dataframe thead th {\n",
       "        text-align: right;\n",
       "    }\n",
       "</style>\n",
       "<table border=\"1\" class=\"dataframe\">\n",
       "  <thead>\n",
       "    <tr style=\"text-align: right;\">\n",
       "      <th></th>\n",
       "      <th>Id</th>\n",
       "      <th>Credit Default</th>\n",
       "    </tr>\n",
       "  </thead>\n",
       "  <tbody>\n",
       "    <tr>\n",
       "      <th>0</th>\n",
       "      <td>0</td>\n",
       "      <td>0</td>\n",
       "    </tr>\n",
       "    <tr>\n",
       "      <th>1</th>\n",
       "      <td>1</td>\n",
       "      <td>1</td>\n",
       "    </tr>\n",
       "    <tr>\n",
       "      <th>2</th>\n",
       "      <td>2</td>\n",
       "      <td>1</td>\n",
       "    </tr>\n",
       "    <tr>\n",
       "      <th>3</th>\n",
       "      <td>3</td>\n",
       "      <td>0</td>\n",
       "    </tr>\n",
       "    <tr>\n",
       "      <th>4</th>\n",
       "      <td>4</td>\n",
       "      <td>0</td>\n",
       "    </tr>\n",
       "  </tbody>\n",
       "</table>\n",
       "</div>"
      ],
      "text/plain": [
       "   Id  Credit Default\n",
       "0   0               0\n",
       "1   1               1\n",
       "2   2               1\n",
       "3   3               0\n",
       "4   4               0"
      ]
     },
     "execution_count": 354,
     "metadata": {},
     "output_type": "execute_result"
    }
   ],
   "source": [
    "submit['Credit Default'] = predictions\n",
    "submit.head()"
   ]
  },
  {
   "cell_type": "code",
   "execution_count": 355,
   "metadata": {},
   "outputs": [],
   "source": [
    "submit.to_csv('./Desktop/alistale/GB/kaggle/Credit/tsygantsova_submission.csv', index=False)"
   ]
  }
 ],
 "metadata": {
  "kernelspec": {
   "display_name": "Python 3",
   "language": "python",
   "name": "python3"
  },
  "language_info": {
   "codemirror_mode": {
    "name": "ipython",
    "version": 3
   },
   "file_extension": ".py",
   "mimetype": "text/x-python",
   "name": "python",
   "nbconvert_exporter": "python",
   "pygments_lexer": "ipython3",
   "version": "3.8.3"
  }
 },
 "nbformat": 4,
 "nbformat_minor": 4
}
