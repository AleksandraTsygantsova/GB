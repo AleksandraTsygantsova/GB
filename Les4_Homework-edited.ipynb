{
 "cells": [
  {
   "cell_type": "markdown",
   "id": "impossible-mailman",
   "metadata": {},
   "source": [
    "**Домашнее задание**"
   ]
  },
  {
   "cell_type": "code",
   "execution_count": 1,
   "id": "lucky-stockholm",
   "metadata": {},
   "outputs": [],
   "source": [
    "import matplotlib.pyplot as plt\n",
    "import random\n",
    "\n",
    "from matplotlib.colors import ListedColormap\n",
    "from sklearn import datasets\n",
    "from math import log as log\n",
    "\n",
    "import numpy as np"
   ]
  },
  {
   "cell_type": "markdown",
   "id": "continuous-service",
   "metadata": {},
   "source": [
    "**Часть 1**\n",
    "1) реализовать аналогичного изученному дерева решений, использующего энтропию Шенонна в качестве критерия информативности и сравнить точность(accuracy, balanced_accuracy) достигаемую на используемых синтетических данных с точностью разобранной на уроке реализации \n"
   ]
  },
  {
   "cell_type": "markdown",
   "id": "lyric-validity",
   "metadata": {},
   "source": [
    "**Базовый класс дерева решений**"
   ]
  },
  {
   "cell_type": "code",
   "execution_count": 2,
   "id": "ahead-hydrogen",
   "metadata": {},
   "outputs": [],
   "source": [
    "# Класс узла\n",
    "\n",
    "class Node:\n",
    "    \n",
    "    def __init__(self, index, t, true_branch, false_branch):\n",
    "        self.index = index  # индекс признака, по которому ведется сравнение с порогом в этом узле\n",
    "        self.t = t  # значение порога\n",
    "        self.true_branch = true_branch  # поддерево, удовлетворяющее условию в узле\n",
    "        self.false_branch = false_branch  # поддерево, не удовлетворяющее условию в узле\n",
    "        \n",
    "# Класс листа\n",
    "\n",
    "class Leaf:\n",
    "    \n",
    "    def __init__(self, data, labels):\n",
    "        self.data = data\n",
    "        self.labels = labels\n",
    "        self.prediction = self.predict()\n",
    "        \n",
    "    def predict(self):\n",
    "        # подсчет количества объектов разных классов\n",
    "        classes = {}  # сформируем словарь \"класс: количество объектов\"\n",
    "        for label in self.labels:\n",
    "            if label not in classes:\n",
    "                classes[label] = 0\n",
    "            classes[label] += 1\n",
    "        #  найдем класс, количество объектов которого будет максимальным в этом листе и вернем его    \n",
    "        prediction = max(classes, key=classes.get)\n",
    "        return prediction  "
   ]
  },
  {
   "cell_type": "code",
   "execution_count": 3,
   "id": "periodic-pound",
   "metadata": {},
   "outputs": [],
   "source": [
    "def gini(labels):\n",
    "    #  подсчет количества объектов разных классов\n",
    "    classes = {}\n",
    "    for label in labels:\n",
    "        if label not in classes:\n",
    "            classes[label] = 0\n",
    "        classes[label] += 1\n",
    "    \n",
    "    #  расчет критерия\n",
    "    impurity = 1\n",
    "    for label in classes:\n",
    "        p = classes[label] / len(labels)\n",
    "        impurity -= p ** 2\n",
    "        \n",
    "    return impurity\n",
    "\n",
    "\n",
    "def quality(left_labels, right_labels, current_gini):\n",
    "\n",
    "    # доля выбоки, ушедшая в левое поддерево\n",
    "    p = float(left_labels.shape[0]) / (left_labels.shape[0] + right_labels.shape[0])\n",
    "    quality = current_gini - p * gini(left_labels) - (1 - p) * gini(right_labels)\n",
    "        \n",
    "    return quality\n",
    "\n",
    "\n",
    "# Разбиение датасета в узле\n",
    "\n",
    "def split(data, labels, index, t):\n",
    "    \n",
    "    left = np.where(data[:, index] <= t)\n",
    "    right = np.where(data[:, index] > t)\n",
    "        \n",
    "    true_data = data[left]\n",
    "    false_data = data[right]\n",
    "    true_labels = labels[left]\n",
    "    false_labels = labels[right]\n",
    "        \n",
    "    return true_data, false_data, true_labels, false_labels\n",
    "\n",
    "\n",
    "# Нахождение наилучшего разбиения\n",
    "\n",
    "def find_best_split(data, labels):\n",
    "    \n",
    "    #  обозначим минимальное количество объектов в узле\n",
    "    min_leaf = 10\n",
    "\n",
    "    current_gini = gini(labels)\n",
    "\n",
    "    best_quality = 0\n",
    "    best_t = None\n",
    "    best_index = None\n",
    "    \n",
    "    n_features = data.shape[1]\n",
    "    \n",
    "    for index in range(n_features):\n",
    "        # будем проверять только уникальные значения признака, исключая повторения\n",
    "        t_values = np.unique([row[index] for row in data])\n",
    "        \n",
    "        for t in t_values:\n",
    "            true_data, false_data, true_labels, false_labels = split(data, labels, index, t)\n",
    "            #  пропускаем разбиения, в которых в узле остается менее 5 объектов\n",
    "            if len(true_data) < min_leaf or len(false_data) < min_leaf:\n",
    "                continue\n",
    "            \n",
    "            current_quality = quality(true_labels, false_labels, current_gini)\n",
    "            \n",
    "            #  выбираем порог, на котором получается максимальный прирост качества\n",
    "            if current_quality > best_quality:\n",
    "                best_quality, best_t, best_index = current_quality, t, index\n",
    "\n",
    "    return best_quality, best_t, best_index\n",
    "\n",
    "\n",
    "# Построение дерева с помощью рекурсивной функции\n",
    "\n",
    "def build_tree(data, labels):\n",
    "\n",
    "    quality, t, index = find_best_split(data, labels)\n",
    "\n",
    "    #  Базовый случай - прекращаем рекурсию, когда нет прироста в качества\n",
    "    if quality == 0:\n",
    "        return Leaf(data, labels)\n",
    "\n",
    "    true_data, false_data, true_labels, false_labels = split(data, labels, index, t)\n",
    "\n",
    "    # Рекурсивно строим два поддерева\n",
    "    true_branch = build_tree(true_data, true_labels)\n",
    "    false_branch = build_tree(false_data, false_labels)\n",
    "\n",
    "    # Возвращаем класс узла со всеми поддеревьями, то есть целого дерева\n",
    "    return Node(index, t, true_branch, false_branch)\n",
    "\n",
    "\n",
    "\n",
    "def classify_object(obj, node):\n",
    "\n",
    "    #  Останавливаем рекурсию, если достигли листа\n",
    "    if isinstance(node, Leaf):\n",
    "        answer = node.prediction\n",
    "        return answer\n",
    "\n",
    "    if obj[node.index] <= node.t:\n",
    "        return classify_object(obj, node.true_branch)\n",
    "    else:\n",
    "        return classify_object(obj, node.false_branch)\n",
    "    \n",
    "    \n",
    "def predict(data, tree):\n",
    "    \n",
    "    classes = []\n",
    "    for obj in data:\n",
    "        prediction = classify_object(obj, tree)\n",
    "        classes.append(prediction)\n",
    "    return np.array(classes)"
   ]
  },
  {
   "cell_type": "markdown",
   "id": "funded-logging",
   "metadata": {},
   "source": [
    "**Сгенерируем тестовые данные**"
   ]
  },
  {
   "cell_type": "code",
   "execution_count": 4,
   "id": "injured-arrow",
   "metadata": {},
   "outputs": [
    {
     "data": {
      "text/plain": [
       "<matplotlib.collections.PathCollection at 0x21ddb38f5b0>"
      ]
     },
     "execution_count": 4,
     "metadata": {},
     "output_type": "execute_result"
    },
    {
     "data": {
      "image/png": "[encoded data removed]",
      "text/plain": [
       "<Figure size 576x576 with 1 Axes>"
      ]
     },
     "metadata": {
      "needs_background": "light"
     },
     "output_type": "display_data"
    }
   ],
   "source": [
    "classification_data, classification_labels = datasets.make_classification(n_features = 2, n_informative = 2, \n",
    "                                                      n_classes = 2, n_redundant=0, \n",
    "                                                      n_clusters_per_class=1, random_state=65)\n",
    "\n",
    "colors = ListedColormap(['red', 'blue'])\n",
    "light_colors = ListedColormap(['lightcoral', 'lightblue'])\n",
    "\n",
    "plt.figure(figsize=(8,8))\n",
    "plt.scatter(list(map(lambda x: x[0], classification_data)), list(map(lambda x: x[1], classification_data)), \n",
    "              c=classification_labels, cmap=colors)"
   ]
  },
  {
   "cell_type": "code",
   "execution_count": 5,
   "id": "international-fundamental",
   "metadata": {},
   "outputs": [],
   "source": [
    "# Введем функцию подсчета точности как доли правильных ответов\n",
    "def accuracy_metric(actual, predicted):\n",
    "    return np.sum(actual==predicted)/len(actual)\n",
    "\n",
    "def balanced_accuracy_metric(actual, predicted):\n",
    "    true_predicted=(actual==predicted).astype(int)\n",
    "    sensitivity=np.sum(actual*true_predicted)/np.sum(actual==1)\n",
    "    specificity=np.sum((1-actual)*true_predicted)/np.sum(actual==0)\n",
    "    return 0.5*(sensitivity+specificity)"
   ]
  },
  {
   "cell_type": "markdown",
   "id": "forty-surge",
   "metadata": {},
   "source": [
    "Построим дерево по базовой модели."
   ]
  },
  {
   "cell_type": "code",
   "execution_count": 6,
   "id": "conditional-ghost",
   "metadata": {},
   "outputs": [],
   "source": [
    "from sklearn import model_selection\n",
    "\n",
    "train_data, test_data, train_labels, test_labels = model_selection.train_test_split(classification_data, \n",
    "                                                                                     classification_labels, \n",
    "                                                                                     test_size = 0.3,\n",
    "                                                                                     random_state = 42)\n",
    "\n",
    "# Построим дерево по обучающей выборке\n",
    "my_tree_basic = build_tree(train_data, train_labels)"
   ]
  },
  {
   "cell_type": "code",
   "execution_count": 7,
   "id": "sized-bishop",
   "metadata": {},
   "outputs": [],
   "source": [
    "# Получим ответы для обучающей выборки \n",
    "train_answers_basic = predict(train_data, my_tree_basic)\n",
    "\n",
    "# И получим ответы для тестовой выборки\n",
    "answers_basic = predict(test_data, my_tree_basic)"
   ]
  },
  {
   "cell_type": "code",
   "execution_count": 8,
   "id": "handy-adelaide",
   "metadata": {},
   "outputs": [
    {
     "data": {
      "text/plain": [
       "(0.9142857142857143, 0.9065343258891646)"
      ]
     },
     "execution_count": 8,
     "metadata": {},
     "output_type": "execute_result"
    }
   ],
   "source": [
    "# Точность на обучающей выборке\n",
    "train_accuracy_basic=accuracy_metric(train_labels, train_answers_basic)\n",
    "accuracy_metric(train_labels, train_answers_basic), balanced_accuracy_metric(train_labels, train_answers_basic)"
   ]
  },
  {
   "cell_type": "code",
   "execution_count": 9,
   "id": "double-shepherd",
   "metadata": {},
   "outputs": [
    {
     "data": {
      "text/plain": [
       "(0.8666666666666667, 0.8755980861244019)"
      ]
     },
     "execution_count": 9,
     "metadata": {},
     "output_type": "execute_result"
    }
   ],
   "source": [
    "# Точность на тестовой выборке\n",
    "test_accuracy_basic=accuracy_metric(test_labels, answers_basic)\n",
    "accuracy_metric(test_labels, answers_basic), balanced_accuracy_metric(test_labels, answers_basic)"
   ]
  },
  {
   "cell_type": "markdown",
   "id": "wireless-gateway",
   "metadata": {},
   "source": [
    "Заменим критерий Джини на энтропию Шеннона."
   ]
  },
  {
   "cell_type": "code",
   "execution_count": 10,
   "id": "offshore-eight",
   "metadata": {},
   "outputs": [],
   "source": [
    "def shennon(labels):\n",
    "    #  подсчет количества объектов разных классов\n",
    "    classes = {}\n",
    "    for label in labels:\n",
    "        if label not in classes:\n",
    "            classes[label] = 0\n",
    "        classes[label] += 1\n",
    "    \n",
    "    #  расчет критерия\n",
    "    p = []\n",
    "    for label in classes:\n",
    "        pk = classes[label] / len(labels)\n",
    "        p.append(pk * log(pk))\n",
    "        \n",
    "    impurity = - np.sum(p)    \n",
    "    return impurity    "
   ]
  },
  {
   "cell_type": "code",
   "execution_count": 11,
   "id": "apart-solomon",
   "metadata": {},
   "outputs": [],
   "source": [
    "def quality(left_labels, right_labels, current_shennon):\n",
    "\n",
    "    # доля выбоки, ушедшая в левое поддерево\n",
    "    p = float(left_labels.shape[0]) / (left_labels.shape[0] + right_labels.shape[0])\n",
    "    quality = current_shennon - p * shennon(left_labels) - (1 - p) * shennon(right_labels)\n",
    "    return quality\n",
    "\n",
    "\n",
    "# Разбиение датасета в узле\n",
    "\n",
    "def split(data, labels, index, t):\n",
    "    \n",
    "    left = np.where(data[:, index] <= t)\n",
    "    right = np.where(data[:, index] > t)\n",
    "        \n",
    "    true_data = data[left]\n",
    "    false_data = data[right]\n",
    "    true_labels = labels[left]\n",
    "    false_labels = labels[right]\n",
    "        \n",
    "    return true_data, false_data, true_labels, false_labels\n",
    "\n",
    "\n",
    "# Нахождение наилучшего разбиения\n",
    "\n",
    "def find_best_split(data, labels):\n",
    "    \n",
    "    #  обозначим минимальное количество объектов в узле\n",
    "    min_leaf = 10\n",
    "\n",
    "    current_shennon = shennon(labels)\n",
    "\n",
    "    best_quality = 0\n",
    "    best_t = None\n",
    "    best_index = None\n",
    "    \n",
    "    n_features = data.shape[1]\n",
    "    \n",
    "    for index in range(n_features):\n",
    "        # будем проверять только уникальные значения признака, исключая повторения\n",
    "        t_values = np.unique([row[index] for row in data])\n",
    "        \n",
    "        for t in t_values:\n",
    "            true_data, false_data, true_labels, false_labels = split(data, labels, index, t)\n",
    "            #  пропускаем разбиения, в которых в узле остается менее 5 объектов\n",
    "            if len(true_data) < min_leaf or len(false_data) < min_leaf:\n",
    "                continue\n",
    "            \n",
    "            current_quality = quality(true_labels, false_labels, current_shennon)\n",
    "            \n",
    "            #  выбираем порог, на котором получается максимальный прирост качества\n",
    "            if current_quality > best_quality:\n",
    "                best_quality, best_t, best_index = current_quality, t, index\n",
    "\n",
    "    return best_quality, best_t, best_index\n",
    "\n",
    "\n",
    "# Построение дерева с помощью рекурсивной функции\n",
    "\n",
    "def build_tree_shennon(data, labels):\n",
    "\n",
    "    quality, t, index = find_best_split(data, labels)\n",
    "\n",
    "    #  Базовый случай - прекращаем рекурсию, когда нет прироста в качества\n",
    "    if quality == 0:\n",
    "        return Leaf(data, labels)\n",
    "\n",
    "    true_data, false_data, true_labels, false_labels = split(data, labels, index, t)\n",
    "\n",
    "    # Рекурсивно строим два поддерева\n",
    "    true_branch = build_tree_shennon(true_data, true_labels)\n",
    "    false_branch = build_tree_shennon(false_data, false_labels)\n",
    "\n",
    "    # Возвращаем класс узла со всеми поддеревьями, то есть целого дерева\n",
    "    return Node(index, t, true_branch, false_branch)\n",
    "\n",
    "\n",
    "\n",
    "def classify_object(obj, node):\n",
    "\n",
    "    #  Останавливаем рекурсию, если достигли листа\n",
    "    if isinstance(node, Leaf):\n",
    "        answer = node.prediction\n",
    "        return answer\n",
    "\n",
    "    if obj[node.index] <= node.t:\n",
    "        return classify_object(obj, node.true_branch)\n",
    "    else:\n",
    "        return classify_object(obj, node.false_branch)\n",
    "    \n",
    "    \n",
    "def predict(data, tree):\n",
    "    \n",
    "    classes = []\n",
    "    for obj in data:\n",
    "        prediction = classify_object(obj, tree)\n",
    "        classes.append(prediction)\n",
    "    return np.array(classes)"
   ]
  },
  {
   "cell_type": "markdown",
   "id": "built-investigation",
   "metadata": {},
   "source": [
    "Построим дерево на модели с энтропией Шеннона."
   ]
  },
  {
   "cell_type": "code",
   "execution_count": 12,
   "id": "distinguished-estate",
   "metadata": {},
   "outputs": [],
   "source": [
    "# Построим дерево по обучающей выборке\n",
    "my_tree_shennon = build_tree_shennon(train_data, train_labels)"
   ]
  },
  {
   "cell_type": "code",
   "execution_count": 13,
   "id": "fabulous-family",
   "metadata": {},
   "outputs": [],
   "source": [
    "# Получим ответы для обучающей выборки \n",
    "train_answers_shennon = predict(train_data, my_tree_shennon)\n",
    "\n",
    "# И получим ответы для тестовой выборки\n",
    "answers_shennon = predict(test_data, my_tree_shennon)"
   ]
  },
  {
   "cell_type": "code",
   "execution_count": 14,
   "id": "packed-anaheim",
   "metadata": {},
   "outputs": [
    {
     "data": {
      "text/plain": [
       "(0.9142857142857143, 0.9230769230769231)"
      ]
     },
     "execution_count": 14,
     "metadata": {},
     "output_type": "execute_result"
    }
   ],
   "source": [
    "# Точность на обучающей выборке\n",
    "train_accuracy_shennon=accuracy_metric(train_labels, train_answers_shennon)\n",
    "accuracy_metric(train_labels, train_answers_shennon), balanced_accuracy_metric(train_labels, train_answers_shennon)"
   ]
  },
  {
   "cell_type": "code",
   "execution_count": 15,
   "id": "regional-michigan",
   "metadata": {},
   "outputs": [
    {
     "data": {
      "text/plain": [
       "(0.8666666666666667, 0.8181818181818181)"
      ]
     },
     "execution_count": 15,
     "metadata": {},
     "output_type": "execute_result"
    }
   ],
   "source": [
    "# Точность на тестовой выборке\n",
    "test_accuracy_shennon=accuracy_metric(test_labels, answers_shennon)\n",
    "accuracy_metric(test_labels, answers_shennon), balanced_accuracy_metric(test_labels, answers_shennon)"
   ]
  },
  {
   "cell_type": "code",
   "execution_count": 16,
   "id": "important-claim",
   "metadata": {},
   "outputs": [
    {
     "data": {
      "text/plain": [
       "True"
      ]
     },
     "execution_count": 16,
     "metadata": {},
     "output_type": "execute_result"
    }
   ],
   "source": [
    "train_accuracy_shennon == train_accuracy_basic"
   ]
  },
  {
   "cell_type": "code",
   "execution_count": 17,
   "id": "running-relevance",
   "metadata": {},
   "outputs": [
    {
     "data": {
      "text/plain": [
       "False"
      ]
     },
     "execution_count": 17,
     "metadata": {},
     "output_type": "execute_result"
    }
   ],
   "source": [
    "balanced_accuracy_metric(test_labels, answers_shennon) == balanced_accuracy_metric(test_labels, answers_basic)"
   ]
  },
  {
   "cell_type": "code",
   "execution_count": 18,
   "id": "classical-noise",
   "metadata": {},
   "outputs": [
    {
     "data": {
      "text/plain": [
       "-0.05741626794258381"
      ]
     },
     "execution_count": 18,
     "metadata": {},
     "output_type": "execute_result"
    }
   ],
   "source": [
    "dif = balanced_accuracy_metric(test_labels, answers_shennon) - balanced_accuracy_metric(test_labels, answers_basic)\n",
    "dif"
   ]
  },
  {
   "cell_type": "markdown",
   "id": "hourly-reading",
   "metadata": {},
   "source": [
    "Модель c энтропией Шеннона показала результаты хуже, чем модель с критерием Джини (сбалансированная метрика точности меньше на 0.057)."
   ]
  },
  {
   "cell_type": "code",
   "execution_count": 19,
   "id": "starting-alloy",
   "metadata": {},
   "outputs": [
    {
     "name": "stderr",
     "output_type": "stream",
     "text": [
      "<ipython-input-19-46c26fc85c07>:14: MatplotlibDeprecationWarning: shading='flat' when X and Y have the same dimensions as C is deprecated since 3.3.  Either specify the corners of the quadrilaterals with X and Y, or pass shading='auto', 'nearest' or 'gouraud', or set rcParams['pcolor.shading'].  This will become an error two minor releases later.\n",
      "  plt.pcolormesh(xx, yy, mesh_predictions, cmap = light_colors)\n",
      "<ipython-input-19-46c26fc85c07>:20: MatplotlibDeprecationWarning: shading='flat' when X and Y have the same dimensions as C is deprecated since 3.3.  Either specify the corners of the quadrilaterals with X and Y, or pass shading='auto', 'nearest' or 'gouraud', or set rcParams['pcolor.shading'].  This will become an error two minor releases later.\n",
      "  plt.pcolormesh(xx, yy, mesh_predictions, cmap = light_colors)\n"
     ]
    },
    {
     "data": {
      "text/plain": [
       "Text(0.5, 1.0, 'Test accuracy=0.87')"
      ]
     },
     "execution_count": 19,
     "metadata": {},
     "output_type": "execute_result"
    },
    {
     "data": {
      "image/png": "[encoded data removed]",
      "text/plain": [
       "<Figure size 1152x504 with 2 Axes>"
      ]
     },
     "metadata": {
      "needs_background": "light"
     },
     "output_type": "display_data"
    }
   ],
   "source": [
    "# Визуализируем дерево c Энтропией Шеннона на графике\n",
    "\n",
    "def get_meshgrid(data, step=.05, border=1.2):\n",
    "    x_min, x_max = data[:, 0].min() - border, data[:, 0].max() + border\n",
    "    y_min, y_max = data[:, 1].min() - border, data[:, 1].max() + border\n",
    "    return np.meshgrid(np.arange(x_min, x_max, step), np.arange(y_min, y_max, step))\n",
    "\n",
    "plt.figure(figsize = (16, 7))\n",
    "\n",
    "# график обучающей выборки\n",
    "plt.subplot(1,2,1)\n",
    "xx, yy = get_meshgrid(train_data)\n",
    "mesh_predictions = np.array(predict(np.c_[xx.ravel(), yy.ravel()], my_tree_shennon)).reshape(xx.shape)\n",
    "plt.pcolormesh(xx, yy, mesh_predictions, cmap = light_colors)\n",
    "plt.scatter(train_data[:, 0], train_data[:, 1], c = train_labels, cmap = colors)\n",
    "plt.title(f'Train accuracy={train_accuracy_shennon:.2f}')\n",
    "\n",
    "# график тестовой выборки\n",
    "plt.subplot(1,2,2)\n",
    "plt.pcolormesh(xx, yy, mesh_predictions, cmap = light_colors)\n",
    "plt.scatter(test_data[:, 0], test_data[:, 1], c = test_labels, cmap = colors)\n",
    "plt.title(f'Test accuracy={test_accuracy_shennon:.2f}')"
   ]
  },
  {
   "cell_type": "markdown",
   "id": "early-matthew",
   "metadata": {},
   "source": [
    "Реализуем ограничение глубины дерева при построении. Построим на этом же датасете дерево, у которого максимальная глубина листа равна 2.\n",
    "Перепишем функцию build tree, установив дополнительный параметр max_deep. \n"
   ]
  },
  {
   "cell_type": "code",
   "execution_count": 22,
   "id": "synthetic-exclusive",
   "metadata": {},
   "outputs": [],
   "source": [
    "# Построение дерева с помощью рекурсивной функции\n",
    "\n",
    "def build_tree_shennon_max(data, labels, max_deep):\n",
    "    \n",
    "    if max_deep > 0:\n",
    "        quality, t, index = find_best_split(data, labels)\n",
    "    else:\n",
    "        return Leaf(data, labels)\n",
    "\n",
    "    #  Базовый случай - прекращаем рекурсию, когда нет прироста в качества\n",
    "    if quality == 0:\n",
    "        return Leaf(data, labels)\n",
    "\n",
    "    true_data, false_data, true_labels, false_labels = split(data, labels, index, t)\n",
    "\n",
    "    # Рекурсивно строим два поддерева\n",
    "    true_branch = build_tree_shennon_max(true_data, true_labels, max_deep-1)\n",
    "    false_branch = build_tree_shennon_max(false_data, false_labels, max_deep-1)\n",
    "\n",
    "    # Возвращаем класс узла со всеми поддеревьями, то есть целого дерева\n",
    "    return Node(index, t, true_branch, false_branch)"
   ]
  },
  {
   "cell_type": "markdown",
   "id": "caring-culture",
   "metadata": {},
   "source": [
    "Построим дерево, у которого максимальная глубина равна 2."
   ]
  },
  {
   "cell_type": "code",
   "execution_count": 23,
   "id": "demanding-prayer",
   "metadata": {},
   "outputs": [],
   "source": [
    "# Построим дерево по обучающей выборке\n",
    "my_tree_shennon_max = build_tree_shennon_max(train_data, train_labels, 2)"
   ]
  },
  {
   "cell_type": "code",
   "execution_count": 24,
   "id": "opening-proxy",
   "metadata": {},
   "outputs": [],
   "source": [
    "# Получим ответы для обучающей выборки \n",
    "train_answers_shennon_max = predict(train_data, my_tree_shennon_max)\n",
    "\n",
    "# И получим ответы для тестовой выборки\n",
    "answers_shennon_max = predict(test_data, my_tree_shennon_max)"
   ]
  },
  {
   "cell_type": "code",
   "execution_count": 25,
   "id": "invisible-young",
   "metadata": {},
   "outputs": [
    {
     "data": {
      "text/plain": [
       "(0.9142857142857143, 0.9065343258891646)"
      ]
     },
     "execution_count": 25,
     "metadata": {},
     "output_type": "execute_result"
    }
   ],
   "source": [
    "# Точность на обучающей выборке\n",
    "train_accuracy_shennon_max=accuracy_metric(train_labels, train_answers_shennon_max)\n",
    "accuracy_metric(train_labels, train_answers_shennon_max), balanced_accuracy_metric(train_labels, train_answers_shennon_max)"
   ]
  },
  {
   "cell_type": "code",
   "execution_count": 26,
   "id": "special-summer",
   "metadata": {},
   "outputs": [
    {
     "data": {
      "text/plain": [
       "(0.8666666666666667, 0.8755980861244019)"
      ]
     },
     "execution_count": 26,
     "metadata": {},
     "output_type": "execute_result"
    }
   ],
   "source": [
    "# Точность на тестовой выборке\n",
    "test_accuracy_shennon_max=accuracy_metric(test_labels, answers_shennon_max)\n",
    "accuracy_metric(test_labels, answers_shennon_max), balanced_accuracy_metric(test_labels, answers_shennon_max)"
   ]
  },
  {
   "cell_type": "code",
   "execution_count": 27,
   "id": "portable-reggae",
   "metadata": {},
   "outputs": [
    {
     "data": {
      "text/plain": [
       "0.0"
      ]
     },
     "execution_count": 27,
     "metadata": {},
     "output_type": "execute_result"
    }
   ],
   "source": [
    "dif_am = test_accuracy_shennon - test_accuracy_shennon_max\n",
    "dif_am"
   ]
  },
  {
   "cell_type": "code",
   "execution_count": 28,
   "id": "broken-interaction",
   "metadata": {},
   "outputs": [
    {
     "data": {
      "text/plain": [
       "-0.05741626794258381"
      ]
     },
     "execution_count": 28,
     "metadata": {},
     "output_type": "execute_result"
    }
   ],
   "source": [
    "dif_bam = balanced_accuracy_metric(test_labels, answers_shennon) - balanced_accuracy_metric(test_labels, answers_shennon_max)\n",
    "dif_bam"
   ]
  },
  {
   "cell_type": "markdown",
   "id": "facial-mirror",
   "metadata": {},
   "source": [
    "Модель с ограничением максимальной глубины показала лучшие результаты."
   ]
  }
 ],
 "metadata": {
  "kernelspec": {
   "display_name": "Python 3",
   "language": "python",
   "name": "python3"
  },
  "language_info": {
   "codemirror_mode": {
    "name": "ipython",
    "version": 3
   },
   "file_extension": ".py",
   "mimetype": "text/x-python",
   "name": "python",
   "nbconvert_exporter": "python",
   "pygments_lexer": "ipython3",
   "version": "3.8.3"
  }
 },
 "nbformat": 4,
 "nbformat_minor": 5
}
